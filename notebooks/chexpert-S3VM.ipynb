{
 "cells": [
  {
   "cell_type": "code",
   "execution_count": 1,
   "id": "activated-windows",
   "metadata": {},
   "outputs": [],
   "source": [
    "import os\n",
    "import sys\n",
    "import json\n",
    "import argparse\n",
    "from time import time\n",
    "from functools import partial\n",
    "\n",
    "import numpy as np\n",
    "import pandas as pd\n",
    "\n",
    "from tqdm import tqdm\n",
    "\n",
    "from sklearn.preprocessing import normalize\n",
    "from graspologic.cluster import GaussianCluster as GMM\n",
    "\n",
    "from sklearn.model_selection import StratifiedKFold as KFold\n",
    "from rsq.samplers import *\n",
    "from rsq.samplers import _Sampler\n",
    "from rsq.helpers import set_seeds\n",
    "from rsq import SVCEnsemble\n",
    "\n",
    "from pulearn import BaggingPuClassifier\n",
    "from pulearn import ElkanotoPuClassifier\n",
    "\n",
    "from sklearn.random_projection import GaussianRandomProjection\n",
    "from sklearn.tree import DecisionTreeClassifier\n",
    "from sklearn.base import ClassifierMixin\n",
    "\n",
    "import pickle\n",
    "\n",
    "from joblib import Parallel, delayed\n",
    "\n",
    "def stratified_sample(y, p=0.67, replace=False):\n",
    "    unique_y, counts = np.unique(y, return_counts=True)\n",
    "    n_per_class = np.array([int(np.math.floor(p*c)) for c in counts])\n",
    "    n_per_class = np.array([max([npc, 1]) for npc in n_per_class])\n",
    "    \n",
    "    inds = [np.random.choice(np.where(y == unique_y[i])[0], size=npc, replace=replace) for i, npc in enumerate(n_per_class)]\n",
    "    \n",
    "    return np.concatenate(inds)"
   ]
  },
  {
   "cell_type": "code",
   "execution_count": 2,
   "id": "subjective-trigger",
   "metadata": {},
   "outputs": [],
   "source": [
    "data = pickle.load(open('../../../data/train_frontal_Bit_m-r101x1_with_labels.p', 'rb'))"
   ]
  },
  {
   "cell_type": "code",
   "execution_count": 3,
   "id": "junior-embassy",
   "metadata": {},
   "outputs": [],
   "source": [
    "X_all = np.array([vec for vec in data['vector']])\n",
    "\n",
    "# category_indices = np.array([6,8,10,11,12,13,14,15,16,17,18])\n",
    "category_indices = np.array([6,8,10,11,12,13,14,15,16,18])\n",
    "\n",
    "conditions = np.array(list(data.iloc[0, category_indices].keys()))\n",
    "\n",
    "competition_conditions = ['Atelectasis', 'Cardiomegaly', 'Consolidation', 'Edema', 'Pleural Effusion']\n",
    "competition_conditions_indices = [np.where(conditions == c)[0][0] for c in conditions]\n",
    "\n",
    "\n",
    "labels = np.arange(len(category_indices))\n",
    "\n",
    "n, d = X_all.shape\n",
    "y_all = np.zeros(n)\n",
    "\n",
    "fly_list = []\n",
    "for i in range(n):\n",
    "    temp_conditions = data.iloc[i, category_indices]\n",
    "    positive_conditions = np.where(temp_conditions.values.astype(int) > 0)[0]\n",
    "    \n",
    "    if len(positive_conditions) > 1:\n",
    "        temp_competition_condition_indices = []\n",
    "        for pc in positive_conditions:\n",
    "            if pc in competition_conditions_indices:\n",
    "                temp_competition_condition_indices.append(pc)\n",
    "        if len(temp_competition_condition_indices) == 1:\n",
    "            y_all[i] = temp_competition_condition_indices[0]\n",
    "            fly_list.append(i)\n",
    "    elif len(positive_conditions) == 1:\n",
    "        y_all[i] = positive_conditions[0]\n",
    "        fly_list.append(i)\n",
    "        \n",
    "fly_list = np.array(fly_list)\n",
    "X = X_all[fly_list]\n",
    "y = y_all[fly_list]"
   ]
  },
  {
   "cell_type": "code",
   "execution_count": 4,
   "id": "governmental-safety",
   "metadata": {},
   "outputs": [
    {
     "name": "stdout",
     "output_type": "stream",
     "text": [
      "16974 No Finding\n",
      "5591 Cardiomegaly\n",
      "2535 Lung Lesion\n",
      "13836 Edema\n",
      "3378 Consolidation\n",
      "1622 Pneumonia\n",
      "7590 Atelectasis\n",
      "7708 Pneumothorax\n",
      "27420 Pleural Effusion\n",
      "3079 Fracture\n"
     ]
    },
    {
     "data": {
      "text/plain": [
       "[None, None, None, None, None, None, None, None, None, None]"
      ]
     },
     "execution_count": 4,
     "metadata": {},
     "output_type": "execute_result"
    }
   ],
   "source": [
    "idx_by_label = [np.where(y == c)[0] for c in np.unique(y)]\n",
    "\n",
    "[print(len(ibl), conditions[i]) for i, ibl in enumerate(idx_by_label)]"
   ]
  },
  {
   "cell_type": "code",
   "execution_count": 7,
   "id": "renewable-camping",
   "metadata": {},
   "outputs": [],
   "source": [
    "def svc_exp(X, y, p=0.1, acorn=None):\n",
    "    X = X.copy() / np.sqrt((X.copy() ** 2).sum(axis=-1, keepdims=True))\n",
    "    \n",
    "    inds_sup = stratified_sample(y, p, replace=False)\n",
    "    inds_unsup = np.array([i for i in range(len(y)) if i not in inds_sup])\n",
    "\n",
    "    y_ = -1 * np.ones(n)\n",
    "    y_[inds_sup] = y[inds_sup]\n",
    "    \n",
    "    #- 2 = Supervised, Semisupervised\n",
    "    accs = np.zeros(2)\n",
    "    \n",
    "        \n",
    "    #- Supervised\n",
    "    svc_sup = SVC()\n",
    "    svc_sup.fit(X[inds_sup], y[inds_sup])\n",
    "    accs[0] = (svc_sup.predict(X[inds_unsup]) == y[inds_unsup]).mean()\n",
    "    \n",
    "    #- Semi-Supervised\n",
    "    svc_semisup = SVCEnsemble(projector=None, classes=np.arange(10))\n",
    "    svc_semisup.fit(X, y_)\n",
    "    accs[1] = (svc_semisup.predict(X[inds_unsup]) == y[inds_unsup]).mean()\n",
    "\n",
    "    return accs"
   ]
  },
  {
   "cell_type": "code",
   "execution_count": 8,
   "id": "happy-helping",
   "metadata": {},
   "outputs": [
    {
     "name": "stdout",
     "output_type": "stream",
     "text": [
      "finished in 41703.0\n"
     ]
    }
   ],
   "source": [
    "np.random.seed(1)\n",
    "\n",
    "prop_labeled=[0.05, 0.1, 0.2, 0.5, 0.8]\n",
    "n_cores=90\n",
    "n_mc=int(n_cores / len(prop_labeled))\n",
    "\n",
    "experiment_tuples = []\n",
    "\n",
    "for i, p in enumerate(prop_labeled):\n",
    "    for _ in range(n_mc):\n",
    "        all_inds = stratified_sample(y, p=0.1, replace=False)\n",
    "        n=len(all_inds)\n",
    "        \n",
    "        experiment_tuples.append((X[all_inds], y[all_inds], p))\n",
    "    \n",
    "\n",
    "condensed_func = lambda x: svc_exp(*x)\n",
    "start_time = time()\n",
    "try:\n",
    "    accuracies = Parallel(n_jobs=n_cores)(delayed(condensed_func)(tupl) for tupl in experiment_tuples)\n",
    "    print(\"finished in %1.1f\"%(time() - start_time))\n",
    "except:\n",
    "    print(\"error after %1.1f\"%(time() - start_time))\n",
    "    assert 0 == 1"
   ]
  },
  {
   "cell_type": "code",
   "execution_count": 9,
   "id": "defined-worry",
   "metadata": {},
   "outputs": [],
   "source": [
    "accuracies_array = np.zeros((len(prop_labeled), 2, n_mc))\n",
    "\n",
    "for i in range(len(prop_labeled)):\n",
    "    for j in range(n_mc):\n",
    "        accuracies_array[i,:, j] = accuracies[i * len(prop_labeled) + j]"
   ]
  },
  {
   "cell_type": "code",
   "execution_count": 10,
   "id": "copyrighted-retreat",
   "metadata": {},
   "outputs": [
    {
     "data": {
      "text/plain": [
       "<matplotlib.legend.Legend at 0x7fe40822c9e8>"
      ]
     },
     "execution_count": 10,
     "metadata": {},
     "output_type": "execute_result"
    },
    {
     "data": {
      "image/png": "[encoded data removed]",
      "text/plain": [
       "<Figure size 432x288 with 1 Axes>"
      ]
     },
     "metadata": {
      "needs_background": "light"
     },
     "output_type": "display_data"
    }
   ],
   "source": [
    "import matplotlib.pyplot as plt\n",
    "import seaborn as sns\n",
    "\n",
    "fig, ax = plt.subplots(1,1)\n",
    "\n",
    "mean_accuracies = np.mean(accuracies_array, axis=-1)\n",
    "\n",
    "ls = ['-', '--']\n",
    "colors = sns.color_palette(\"Set1\", n_colors=mean_accuracies.shape[0])\n",
    "algos = ['SVC', 'Semisup SVC']\n",
    "\n",
    "for i, algo in enumerate(algos):\n",
    "# for i, p in enumerate(prop_labeled):\n",
    "#     print(mean_accuracies[0].shape, len(prop_labeled))\n",
    "    ax.scatter(prop_labeled, mean_accuracies[:, i], label=algo, ls=ls[i], color=colors[i])\n",
    "\n",
    "ax.legend()"
   ]
  }
 ],
 "metadata": {
  "kernelspec": {
   "display_name": "APU",
   "language": "python",
   "name": "apu"
  },
  "language_info": {
   "codemirror_mode": {
    "name": "ipython",
    "version": 3
   },
   "file_extension": ".py",
   "mimetype": "text/x-python",
   "name": "python",
   "nbconvert_exporter": "python",
   "pygments_lexer": "ipython3",
   "version": "3.6.9"
  }
 },
 "nbformat": 4,
 "nbformat_minor": 5
}

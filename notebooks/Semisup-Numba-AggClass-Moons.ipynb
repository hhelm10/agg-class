{
 "cells": [
  {
   "cell_type": "code",
   "execution_count": null,
   "metadata": {},
   "outputs": [],
   "source": [
    "import numpy as np\n",
    "from tqdm import tqdm\n",
    "from joblib import Parallel, delayed\n",
    "\n",
    "import matplotlib.pyplot as plt\n",
    "from sklearn.svm import SVC\n",
    "from rsq import SVCEnsemble, AgglomerativeClassifier\n",
    "\n",
    "def stratified_sample(y, p=0.67, replace=False):\n",
    "    unique_y, counts = np.unique(y, return_counts=True)\n",
    "    n_per_class = np.array([int(np.math.floor(p*c)) for c in counts])\n",
    "    n_per_class = np.array([max([npc, 1]) for npc in n_per_class])\n",
    "    \n",
    "    inds = [np.random.choice(np.where(y == unique_y[i])[0], size=npc, replace=replace) for i, npc in enumerate(n_per_class)]\n",
    "    \n",
    "    return np.concatenate(inds)"
   ]
  },
  {
   "cell_type": "code",
   "execution_count": null,
   "metadata": {},
   "outputs": [],
   "source": [
    "def gem(x, p=1):\n",
    "    \"\"\" generalized mean pooling -- interpolation between mean and max \"\"\"\n",
    "    nobs, ndim = x.shape\n",
    "    \n",
    "    y = np.zeros(ndim)\n",
    "    for r in range(nobs):\n",
    "        for c in range(ndim):\n",
    "            y[c] += x[r,c] ** p\n",
    "    \n",
    "    y /= nobs\n",
    "    \n",
    "    for c in range(ndim):\n",
    "        y[c] = y[c] ** (1 / p)\n",
    "    \n",
    "    return y"
   ]
  },
  {
   "cell_type": "code",
   "execution_count": null,
   "metadata": {},
   "outputs": [],
   "source": [
    "def few_shot_gaussians(n, d, n_classes=2, type2_var=0.5, var=1, n_labels_per_class=1, n_test=100, acorn=None):\n",
    "    if acorn is not None:\n",
    "        np.random.seed(acorn)\n",
    "                \n",
    "    means = np.random.multivariate_normal(np.zeros(d), type2_var * np.eye(d), size=int(n_classes))\n",
    "            \n",
    "    data = np.concatenate([np.random.multivariate_normal(mean, var*np.eye(d), size=n) for mean in means])\n",
    "    latent_labels = np.concatenate([i*np.ones(n) for i in range(n_classes)])\n",
    "    \n",
    "    data_test = np.concatenate([np.random.multivariate_normal(mean, var*np.eye(d), size=n_test) for mean in means])\n",
    "    y_test = np.concatenate([i*np.ones(n_test) for i in range(n_classes)])\n",
    "    \n",
    "    shuf = np.random.choice(n_classes*n, n_classes*n, replace=False)\n",
    "    data, latent_labels = data[shuf], latent_labels[shuf]\n",
    "    \n",
    "    known_labels = -1 * np.ones(n_classes*n)\n",
    "    labeled_inds = [np.where(latent_labels == i)[0][:n_labels_per_class] for i in range(n_classes)]\n",
    "    \n",
    "    for i, inds in enumerate(labeled_inds):\n",
    "        known_labels[inds] = i\n",
    "                \n",
    "    return data, known_labels, latent_labels, data_test, y_test"
   ]
  },
  {
   "cell_type": "code",
   "execution_count": null,
   "metadata": {},
   "outputs": [],
   "source": []
  },
  {
   "cell_type": "code",
   "execution_count": null,
   "metadata": {},
   "outputs": [],
   "source": [
    "from numba import jit\n",
    "from sklearn.cluster import AgglomerativeClustering\n",
    "\n",
    "\n",
    "@jit(nopython=True)\n",
    "def get_tree_distances(n, decision_paths, labeled_inds, counts):\n",
    "    tree_distances = np.zeros((n, len(labeled_inds)))\n",
    "\n",
    "    for i in range(n):\n",
    "        temp_path1=decision_paths[i, :counts[i]]\n",
    "\n",
    "        for j in range(len(labeled_inds)):\n",
    "            temp_path2=decision_paths[labeled_inds[j], :counts[labeled_inds[j]]]\n",
    "\n",
    "            for k in range(counts[j]):    \n",
    "                if np.sum(temp_path2[k] == temp_path1) > 0:\n",
    "                    path1_ind = np.argwhere(temp_path1 == temp_path2[k])[0]\n",
    "\n",
    "                    tree_distances[i,j] = (k + path1_ind[0] + 2) / 2\n",
    "                    break\n",
    "                tree_distances[i,j] = (counts[i] + counts[labeled_inds[j]]) / 2\n",
    "                \n",
    "\n",
    "    return tree_distances\n",
    "    \n",
    "    \n",
    "@jit(nopython=True)\n",
    "def get_decision_paths(n, children_array):\n",
    "    ind_to_path_array = np.zeros((n, n))\n",
    "    ind_to_path_array[:, 0] = np.arange(n, dtype=np.int32)\n",
    "    counts = np.ones(n, dtype=np.int32)\n",
    "\n",
    "    for i in range(children_array.shape[0]):\n",
    "        node_id = i + n\n",
    "        left = children_array[i,0]\n",
    "        right = children_array[i,1]\n",
    "                        \n",
    "        for k in range(n):\n",
    "            if left == ind_to_path_array[k, counts[k]-1] or right == ind_to_path_array[k, counts[k]-1]:\n",
    "                ind_to_path_array[k, counts[k]] = node_id\n",
    "                counts[k] += 1\n",
    "                                \n",
    "    return ind_to_path_array, counts\n",
    "\n",
    "\n",
    "class NewAgglomerativeClassifier:\n",
    "    def __init__(self, n_clusters=2, affinity='cosine', linkage='average',\n",
    "                n_neighbors=1,\n",
    "                 max_tree_distance=None,\n",
    "                 soft_max_multiplier=10,\n",
    "                 gem_p=1,\n",
    "                classes=None):\n",
    "        \n",
    "        self.n_clusters = n_clusters\n",
    "        self.affinity = affinity\n",
    "        self.linkage = linkage\n",
    "        \n",
    "        self.n_neighbors = n_neighbors\n",
    "                \n",
    "        self.classes_ = classes\n",
    "        \n",
    "        self.max_tree_distance=max_tree_distance\n",
    "        self.soft_max_multiplier=soft_max_multiplier\n",
    "        \n",
    "        self.gem_p = gem_p\n",
    "        \n",
    "        \n",
    "    def fit(self, X, y):\n",
    "        self.n, d = X.shape\n",
    "\n",
    "        self.labeled_inds = np.where(y != -1)[0]\n",
    "                \n",
    "        if self.classes_ is None:\n",
    "            self.classes_ = np.unique(y[self.labeled_inds])\n",
    "            \n",
    "        if -1 in self.classes_:\n",
    "            self.classes_ = self.classes_[1:]\n",
    "                        \n",
    "        self.model = AgglomerativeClustering(n_clusters=self.n_clusters, \n",
    "            affinity=self.affinity, \n",
    "            linkage=self.linkage, \n",
    "            compute_full_tree=True\n",
    "            )\n",
    "        self.model.fit(X)\n",
    "                    \n",
    "        self.nn = NearestNeighbors(n_neighbors=self.n_neighbors, metric=self.affinity)\n",
    "        self.nn.fit(X)\n",
    "        \n",
    "        labeled_inds_by_class = [np.where(y[self.labeled_inds] == c)[0] for c in self.classes_]\n",
    "        decision_paths, counts = get_decision_paths(self.n, self.model.children_)\n",
    "        \n",
    "        self._get_tree_distances(decision_paths, counts)        \n",
    "        self._get_similarities_to_classes(labeled_inds_by_class)\n",
    "        \n",
    "                                    \n",
    "    def _get_tree_distances(self, decision_paths, counts):\n",
    "        self.tree_distances = get_tree_distances(self.n, decision_paths, self.labeled_inds, counts)\n",
    "        self.tree_distances = np.log(self.tree_distances) + 1\n",
    "        self.tree_distances = 1 / self.tree_distances\n",
    "        self.tree_distances = softmax(self.soft_max_multiplier * self.tree_distances, axis=0)\n",
    "        \n",
    "        \n",
    "    def _get_similarities_to_classes(self, labeled_inds_by_class):\n",
    "        self.similarities_to_classes = np.zeros((self.n, len(self.classes_)))\n",
    "        \n",
    "        for i, ibc in enumerate(labeled_inds_by_class):\n",
    "            self.similarities_to_classes[:, i] = gem(self.tree_distances[:, ibc].T, p=self.gem_p)\n",
    "                                              \n",
    "        self.similarities_to_classes = softmax(self.similarities_to_classes, axis=1)\n",
    "        \n",
    "        \n",
    "    def predict_proba(self, X):\n",
    "        _, neighbor_inds = self.nn.kneighbors(X)\n",
    "        scores = np.mean(self.similarities_to_classes[neighbor_inds], axis=1)\n",
    "        return softmax(scores, axis=1)\n",
    "    \n",
    "    \n",
    "    def predict(self, X):\n",
    "        return self.classes_[np.argmax(self.predict_proba(X), axis=1)]"
   ]
  },
  {
   "cell_type": "code",
   "execution_count": null,
   "metadata": {},
   "outputs": [],
   "source": []
  },
  {
   "cell_type": "code",
   "execution_count": 15,
   "metadata": {},
   "outputs": [
    {
     "data": {
      "text/plain": [
       "array([ True, False, False])"
      ]
     },
     "execution_count": 15,
     "metadata": {},
     "output_type": "execute_result"
    }
   ],
   "source": [
    "0 == np.array([0,1,2])"
   ]
  },
  {
   "cell_type": "code",
   "execution_count": null,
   "metadata": {},
   "outputs": [],
   "source": [
    "import numpy as np\n",
    "\n",
    "from sklearn.cluster import AgglomerativeClustering \n",
    "from sklearn.neighbors import NearestNeighbors\n",
    "from sklearn.random_projection import GaussianRandomProjection\n",
    "\n",
    "from scipy.special import softmax\n",
    "\n",
    "import itertools\n",
    "\n",
    "\n",
    "class AgglomerativeEnsemble:\n",
    "    def __init__(self, n_estimators=50, \n",
    "                 p_inbag=0.67, \n",
    "                 projector=None, projection_kwargs={},\n",
    "                 classes=None,\n",
    "                 affinity='cosine', linkage='average',\n",
    "                 n_neighbors=1,max_tree_distance=None,\n",
    "                 gem_p=1,\n",
    "                 n_jobs=1):\n",
    "\n",
    "        self.n_estimators=n_estimators\n",
    "        self.p_inbag=p_inbag\n",
    "        \n",
    "        if projector is \"gaussian\":\n",
    "            self.projector=GaussianRandomProjection\n",
    "        else:\n",
    "            self.projector=projector\n",
    "\n",
    "        self.projection_kwargs=projection_kwargs\n",
    "        \n",
    "        self.classes_=classes\n",
    "            \n",
    "        self.affinity=affinity\n",
    "        self.linkage=linkage\n",
    "        self.n_neighbors=n_neighbors\n",
    "        self.max_tree_distance=max_tree_distance\n",
    "\n",
    "        self.n_jobs=n_jobs\n",
    "        self.ensemble = []\n",
    "    \n",
    "        \n",
    "    def fit(self, X, y):\n",
    "        self.unlabeled_inds = np.where(y == -1)[0].astype(int)\n",
    "        self.labeled_inds = np.where(y != -1)[0].astype(int)\n",
    "        \n",
    "        if self.classes_ is None:\n",
    "            self.classes_ = np.unique(y)\n",
    "\n",
    "        if -1 in self.classes_:\n",
    "            self.classes_ = self.classes_[1:]\n",
    "                             \n",
    "        condensed_func = lambda x: self._train_agg_class(X, y, stratified=True)\n",
    "        func_tuples = np.zeros(self.n_estimators)\n",
    "                \n",
    "        self.ensemble = Parallel(n_jobs=self.n_jobs)(delayed(condensed_func)(tuple_) for tuple_ in func_tuples)\n",
    "            \n",
    "\n",
    "    def _train_agg_class(self, X, y, stratified=True):                \n",
    "        if len(self.labeled_inds) == len(y):\n",
    "            all_supervised=True\n",
    "        else:\n",
    "            all_supervised=False\n",
    "\n",
    "        if self.p_inbag >= 1:\n",
    "            self.p_inbag=1\n",
    "            replace=False\n",
    "        else:\n",
    "            replace=True\n",
    "  \n",
    "\n",
    "        sbag_inds = stratified_sample(y[self.labeled_inds], p=self.p_inbag, replace=False)\n",
    "        if all_supervised:\n",
    "            bag_inds = sbag_inds\n",
    "        else:\n",
    "            ssbag_inds = np.random.choice(len(self.unlabeled_inds), size=int(X.shape[0]*0.67), replace=True)\n",
    "            bag_inds = np.concatenate((self.labeled_inds[sbag_inds], ssbag_inds))\n",
    "        \n",
    "\n",
    "        agg_class = ProjectionAgglomerativeClassifier(affinity=self.affinity, linkage=self.linkage,\n",
    "            n_neighbors=self.n_neighbors,\n",
    "            max_tree_distance=self.max_tree_distance,\n",
    "            classes=self.classes_)\n",
    "\n",
    "        agg_class.fit(X[bag_inds], y[bag_inds])\n",
    "                \n",
    "        return agg_class\n",
    "    \n",
    "    \n",
    "    def predict_proba(self, X):\n",
    "        return np.mean([agg_class.predict_proba(X) for agg_class in self.ensemble], axis=0)\n",
    "    \n",
    "    def votes(self, X):\n",
    "        return  \n",
    "        \n",
    "        \n",
    "    def predict(self, X):\n",
    "        return np.argmax(self.predict_proba(X), axis=1)"
   ]
  },
  {
   "cell_type": "code",
   "execution_count": 12,
   "metadata": {},
   "outputs": [
    {
     "name": "stdout",
     "output_type": "stream",
     "text": [
      "[-1. -1. -1. -1. -1.  1. -1. -1. -1. -1. -1. -1. -1. -1. -1.  0. -1. -1.\n",
      " -1. -1. -1.  1. -1. -1. -1. -1. -1. -1. -1. -1. -1. -1. -1. -1. -1. -1.\n",
      " -1.  1. -1. -1. -1. -1. -1. -1. -1. -1. -1.  0. -1. -1. -1. -1. -1. -1.\n",
      " -1. -1. -1. -1. -1. -1. -1. -1. -1. -1. -1. -1. -1.  0. -1. -1. -1. -1.\n",
      " -1.  0. -1. -1.  0. -1. -1. -1. -1.  1.  1. -1.  1. -1. -1.  1. -1. -1.\n",
      " -1. -1. -1. -1. -1. -1. -1. -1. -1. -1. -1. -1.  1. -1. -1. -1. -1. -1.\n",
      " -1. -1. -1. -1. -1. -1. -1. -1. -1. -1. -1. -1.  1. -1. -1. -1. -1. -1.\n",
      "  1. -1. -1. -1. -1. -1. -1. -1. -1. -1.  0. -1. -1. -1. -1. -1. -1. -1.\n",
      "  1. -1. -1.  0. -1. -1. -1. -1. -1. -1. -1. -1. -1. -1. -1. -1. -1. -1.\n",
      " -1. -1. -1. -1. -1. -1. -1. -1. -1. -1. -1. -1. -1. -1. -1. -1. -1.  0.\n",
      "  0.  1. -1.  0. -1. -1. -1. -1. -1. -1. -1. -1. -1. -1. -1. -1. -1. -1.\n",
      " -1. -1. -1. -1. -1. -1. -1.  0. -1. -1. -1. -1. -1. -1. -1. -1. -1. -1.\n",
      " -1. -1. -1. -1. -1. -1. -1. -1.  0.  1. -1. -1. -1. -1. -1. -1. -1. -1.\n",
      " -1. -1. -1. -1. -1. -1. -1. -1.  0. -1. -1.  0. -1. -1. -1. -1. -1. -1.\n",
      " -1. -1. -1.  1. -1. -1. -1. -1. -1.  0. -1. -1.  1. -1. -1.  1. -1. -1.\n",
      "  0. -1.  0. -1. -1. -1.  1. -1. -1.  0. -1. -1. -1. -1. -1. -1. -1. -1.\n",
      " -1. -1.  0. -1. -1. -1. -1. -1. -1. -1. -1. -1. -1. -1.  1. -1. -1. -1.\n",
      " -1. -1. -1. -1. -1. -1. -1. -1. -1. -1. -1. -1. -1. -1. -1. -1. -1.  0.\n",
      " -1. -1. -1. -1. -1. -1. -1. -1. -1. -1. -1. -1. -1.  1. -1. -1.  1. -1.\n",
      " -1. -1. -1. -1. -1. -1. -1. -1. -1. -1. -1. -1. -1. -1. -1. -1. -1. -1.\n",
      " -1. -1. -1. -1. -1. -1. -1. -1. -1. -1. -1. -1. -1. -1. -1. -1. -1. -1.\n",
      " -1. -1. -1. -1. -1. -1. -1. -1. -1. -1. -1. -1. -1. -1. -1. -1.  1. -1.\n",
      " -1. -1. -1.  0. -1.  0. -1. -1. -1. -1. -1. -1. -1. -1. -1. -1. -1. -1.\n",
      " -1. -1. -1. -1. -1. -1. -1. -1. -1. -1. -1.  1. -1. -1. -1. -1. -1. -1.\n",
      "  1. -1. -1. -1. -1.  0. -1. -1. -1. -1. -1. -1. -1. -1. -1. -1. -1. -1.\n",
      " -1. -1. -1. -1.  1. -1. -1.  0. -1. -1.  0. -1. -1. -1. -1.  1. -1. -1.\n",
      " -1. -1. -1. -1.  1. -1. -1. -1. -1. -1. -1. -1. -1. -1. -1. -1. -1. -1.\n",
      " -1. -1. -1. -1.  1. -1. -1. -1. -1. -1. -1.  1. -1. -1.  0. -1.  1. -1.\n",
      " -1.  1. -1. -1. -1. -1. -1.  0. -1. -1. -1. -1. -1. -1. -1. -1. -1. -1.\n",
      " -1. -1. -1. -1. -1.  0. -1. -1. -1.  1. -1. -1. -1. -1. -1.  0. -1. -1.\n",
      " -1. -1. -1. -1. -1. -1. -1. -1. -1. -1. -1. -1. -1. -1.  0.  0. -1. -1.\n",
      " -1. -1. -1. -1. -1. -1.  0. -1. -1. -1. -1.  0. -1. -1. -1. -1. -1. -1.\n",
      " -1. -1. -1. -1. -1. -1. -1. -1. -1. -1. -1. -1. -1. -1. -1. -1. -1. -1.\n",
      " -1.  1. -1. -1. -1. -1. -1. -1. -1. -1. -1. -1. -1. -1. -1. -1. -1. -1.\n",
      " -1. -1. -1. -1. -1. -1. -1. -1. -1. -1. -1. -1. -1. -1. -1. -1. -1. -1.\n",
      " -1. -1. -1. -1. -1. -1. -1. -1. -1. -1.  0. -1.  1. -1. -1. -1. -1. -1.\n",
      " -1.  1. -1. -1. -1. -1. -1. -1. -1. -1. -1.  1. -1. -1. -1. -1. -1. -1.\n",
      "  1. -1. -1. -1. -1. -1. -1. -1. -1. -1. -1. -1. -1. -1. -1. -1. -1.  0.\n",
      " -1. -1. -1.  0.  1. -1. -1. -1. -1. -1. -1. -1. -1. -1. -1.  1. -1. -1.\n",
      " -1. -1. -1. -1. -1. -1. -1. -1.  0. -1. -1. -1. -1. -1. -1. -1. -1. -1.\n",
      " -1. -1. -1.  0. -1. -1. -1. -1. -1. -1.  0. -1. -1. -1. -1. -1. -1. -1.\n",
      " -1. -1. -1. -1. -1.  0.  1. -1. -1. -1. -1.  0. -1. -1. -1. -1. -1. -1.\n",
      " -1. -1. -1. -1.  0. -1. -1. -1. -1. -1. -1. -1. -1. -1. -1.  1. -1. -1.\n",
      " -1. -1. -1. -1. -1. -1. -1. -1. -1. -1. -1. -1. -1. -1. -1. -1. -1. -1.\n",
      " -1. -1. -1. -1. -1. -1. -1.  0. -1. -1. -1. -1. -1. -1. -1. -1. -1. -1.\n",
      " -1. -1. -1. -1. -1.  1. -1.  1. -1. -1. -1. -1. -1. -1. -1. -1.  0. -1.\n",
      " -1. -1. -1. -1. -1. -1. -1. -1. -1. -1.  0. -1. -1. -1. -1. -1. -1. -1.\n",
      " -1. -1. -1. -1. -1.  1.  0. -1. -1. -1. -1. -1. -1. -1. -1. -1. -1. -1.\n",
      " -1. -1. -1. -1. -1. -1. -1. -1. -1. -1. -1.  0. -1. -1. -1. -1. -1. -1.\n",
      " -1. -1. -1. -1. -1. -1.  0. -1. -1. -1. -1. -1. -1. -1. -1. -1. -1. -1.\n",
      " -1. -1. -1. -1. -1. -1. -1. -1. -1. -1. -1. -1. -1. -1. -1. -1. -1. -1.\n",
      " -1. -1. -1. -1. -1. -1. -1.  1. -1. -1. -1. -1. -1. -1. -1. -1. -1. -1.\n",
      " -1. -1. -1. -1. -1. -1. -1. -1. -1.  0. -1. -1. -1. -1. -1. -1.  1. -1.\n",
      " -1. -1. -1.  1.  0. -1. -1. -1. -1. -1.  0. -1. -1. -1. -1. -1. -1. -1.\n",
      "  1. -1. -1. -1. -1. -1. -1. -1. -1. -1. -1.  1. -1. -1. -1. -1. -1. -1.\n",
      " -1. -1. -1. -1.  0. -1. -1. -1. -1. -1.]\n"
     ]
    },
    {
     "data": {
      "text/plain": [
       "<matplotlib.collections.PathCollection at 0x7f93b8b8a588>"
      ]
     },
     "execution_count": 12,
     "metadata": {},
     "output_type": "execute_result"
    },
    {
     "data": {
      "image/png": "[encoded data removed]",
      "text/plain": [
       "<Figure size 432x288 with 2 Axes>"
      ]
     },
     "metadata": {
      "needs_background": "light"
     },
     "output_type": "display_data"
    }
   ],
   "source": []
  },
  {
   "cell_type": "code",
   "execution_count": null,
   "metadata": {},
   "outputs": [],
   "source": [
    "from sklearn.datasets import make_moons\n",
    "# np.random.seed(2)\n",
    "\n",
    "\n",
    "nus = clf.predict_proba(X)\n",
    "y_hat=clf.predict(X)\n",
    "\n",
    "print(y_)\n",
    "\n",
    "ax[1].scatter(X[:, 0], X[:, 1], c=y_hat)"
   ]
  },
  {
   "cell_type": "code",
   "execution_count": 270,
   "metadata": {},
   "outputs": [],
   "source": [
    "n=3000\n",
    "X, y = make_moons(n, noise=0.1)\n",
    "\n",
    "n_labeled=50\n",
    "inds = np.random.choice(len(y), n_labeled, replace=False).astype(np.int32)\n",
    "\n",
    "y_ = -1 * np.ones(n)\n",
    "y_[inds] = y[inds]"
   ]
  },
  {
   "cell_type": "code",
   "execution_count": 271,
   "metadata": {},
   "outputs": [
    {
     "ename": "KeyboardInterrupt",
     "evalue": "",
     "output_type": "error",
     "traceback": [
      "\u001b[0;31m---------------------------------------------------------------------------\u001b[0m",
      "\u001b[0;31mKeyboardInterrupt\u001b[0m                         Traceback (most recent call last)",
      "\u001b[0;32m<timed exec>\u001b[0m in \u001b[0;36m<module>\u001b[0;34m\u001b[0m\n",
      "\u001b[0;32m<ipython-input-10-7a9d422810b2>\u001b[0m in \u001b[0;36mfit\u001b[0;34m(self, X, y)\u001b[0m\n\u001b[1;32m     43\u001b[0m         \u001b[0mself\u001b[0m\u001b[0;34m.\u001b[0m\u001b[0mmodel\u001b[0m\u001b[0;34m.\u001b[0m\u001b[0mfit\u001b[0m\u001b[0;34m(\u001b[0m\u001b[0mX\u001b[0m\u001b[0;34m)\u001b[0m\u001b[0;34m\u001b[0m\u001b[0;34m\u001b[0m\u001b[0m\n\u001b[1;32m     44\u001b[0m \u001b[0;34m\u001b[0m\u001b[0m\n\u001b[0;32m---> 45\u001b[0;31m         \u001b[0mself\u001b[0m\u001b[0;34m.\u001b[0m\u001b[0m_get_tree_distances\u001b[0m\u001b[0;34m(\u001b[0m\u001b[0;34m)\u001b[0m\u001b[0;34m\u001b[0m\u001b[0;34m\u001b[0m\u001b[0m\n\u001b[0m\u001b[1;32m     46\u001b[0m \u001b[0;34m\u001b[0m\u001b[0m\n\u001b[1;32m     47\u001b[0m         \u001b[0mself\u001b[0m\u001b[0;34m.\u001b[0m\u001b[0mnn\u001b[0m \u001b[0;34m=\u001b[0m \u001b[0mNearestNeighbors\u001b[0m\u001b[0;34m(\u001b[0m\u001b[0mn_neighbors\u001b[0m\u001b[0;34m=\u001b[0m\u001b[0mself\u001b[0m\u001b[0;34m.\u001b[0m\u001b[0mn_neighbors\u001b[0m\u001b[0;34m,\u001b[0m \u001b[0mmetric\u001b[0m\u001b[0;34m=\u001b[0m\u001b[0mself\u001b[0m\u001b[0;34m.\u001b[0m\u001b[0maffinity\u001b[0m\u001b[0;34m)\u001b[0m\u001b[0;34m\u001b[0m\u001b[0;34m\u001b[0m\u001b[0m\n",
      "\u001b[0;32m<ipython-input-10-7a9d422810b2>\u001b[0m in \u001b[0;36m_get_tree_distances\u001b[0;34m(self)\u001b[0m\n\u001b[1;32m     70\u001b[0m \u001b[0;34m\u001b[0m\u001b[0m\n\u001b[1;32m     71\u001b[0m     \u001b[0;32mdef\u001b[0m \u001b[0m_get_tree_distances\u001b[0m\u001b[0;34m(\u001b[0m\u001b[0mself\u001b[0m\u001b[0;34m)\u001b[0m\u001b[0;34m:\u001b[0m\u001b[0;34m\u001b[0m\u001b[0;34m\u001b[0m\u001b[0m\n\u001b[0;32m---> 72\u001b[0;31m         \u001b[0mcluster_decision_paths\u001b[0m \u001b[0;34m=\u001b[0m \u001b[0mself\u001b[0m\u001b[0;34m.\u001b[0m\u001b[0m_get_decision_paths\u001b[0m\u001b[0;34m(\u001b[0m\u001b[0;34m)\u001b[0m\u001b[0;34m\u001b[0m\u001b[0;34m\u001b[0m\u001b[0m\n\u001b[0m\u001b[1;32m     73\u001b[0m         \u001b[0mself\u001b[0m\u001b[0;34m.\u001b[0m\u001b[0mtree_distances\u001b[0m \u001b[0;34m=\u001b[0m \u001b[0mnp\u001b[0m\u001b[0;34m.\u001b[0m\u001b[0mzeros\u001b[0m\u001b[0;34m(\u001b[0m\u001b[0;34m(\u001b[0m\u001b[0mself\u001b[0m\u001b[0;34m.\u001b[0m\u001b[0mn\u001b[0m\u001b[0;34m,\u001b[0m \u001b[0mlen\u001b[0m\u001b[0;34m(\u001b[0m\u001b[0mself\u001b[0m\u001b[0;34m.\u001b[0m\u001b[0mlabeled_inds\u001b[0m\u001b[0;34m)\u001b[0m\u001b[0;34m)\u001b[0m\u001b[0;34m)\u001b[0m\u001b[0;34m\u001b[0m\u001b[0;34m\u001b[0m\u001b[0m\n\u001b[1;32m     74\u001b[0m \u001b[0;34m\u001b[0m\u001b[0m\n",
      "\u001b[0;32m<ipython-input-10-7a9d422810b2>\u001b[0m in \u001b[0;36m_get_decision_paths\u001b[0;34m(self)\u001b[0m\n\u001b[1;32m     63\u001b[0m \u001b[0;34m\u001b[0m\u001b[0m\n\u001b[1;32m     64\u001b[0m             \u001b[0;32mfor\u001b[0m \u001b[0mkey_\u001b[0m\u001b[0;34m,\u001b[0m \u001b[0mvalue_\u001b[0m \u001b[0;32min\u001b[0m \u001b[0mind_to_path_dict\u001b[0m\u001b[0;34m.\u001b[0m\u001b[0mitems\u001b[0m\u001b[0;34m(\u001b[0m\u001b[0;34m)\u001b[0m\u001b[0;34m:\u001b[0m\u001b[0;34m\u001b[0m\u001b[0;34m\u001b[0m\u001b[0m\n\u001b[0;32m---> 65\u001b[0;31m                 \u001b[0;32mif\u001b[0m \u001b[0mleft\u001b[0m \u001b[0;32min\u001b[0m \u001b[0mvalue_\u001b[0m \u001b[0;32mor\u001b[0m \u001b[0mright\u001b[0m \u001b[0;32min\u001b[0m \u001b[0mvalue_\u001b[0m\u001b[0;34m:\u001b[0m\u001b[0;34m\u001b[0m\u001b[0;34m\u001b[0m\u001b[0m\n\u001b[0m\u001b[1;32m     66\u001b[0m                     \u001b[0mind_to_path_dict\u001b[0m\u001b[0;34m[\u001b[0m\u001b[0mkey_\u001b[0m\u001b[0;34m]\u001b[0m\u001b[0;34m.\u001b[0m\u001b[0mappend\u001b[0m\u001b[0;34m(\u001b[0m\u001b[0mnode_id\u001b[0m\u001b[0;34m)\u001b[0m\u001b[0;34m\u001b[0m\u001b[0;34m\u001b[0m\u001b[0m\n\u001b[1;32m     67\u001b[0m \u001b[0;34m\u001b[0m\u001b[0m\n",
      "\u001b[0;31mKeyboardInterrupt\u001b[0m: "
     ]
    }
   ],
   "source": [
    "%%time\n",
    "clf=AgglomerativeClassifier(affinity='euclidean', linkage='single', n_neighbors=int(np.math.log(n)), gem_p=16)\n",
    "clf.fit(X, y_)\n",
    "(clf.predict(X) == y).mean()"
   ]
  },
  {
   "cell_type": "code",
   "execution_count": 269,
   "metadata": {},
   "outputs": [
    {
     "name": "stdout",
     "output_type": "stream",
     "text": [
      "CPU times: user 5.29 ms, sys: 0 ns, total: 5.29 ms\n",
      "Wall time: 4.03 ms\n"
     ]
    },
    {
     "data": {
      "text/plain": [
       "1.0"
      ]
     },
     "execution_count": 269,
     "metadata": {},
     "output_type": "execute_result"
    }
   ],
   "source": [
    "%%time\n",
    "clf=NewAgglomerativeClassifier(affinity='euclidean', linkage='single', n_neighbors=int(np.math.log(n)), gem_p=16)\n",
    "clf.fit(X, y_)\n",
    "(clf.predict(X) == y).mean()"
   ]
  },
  {
   "cell_type": "code",
   "execution_count": 249,
   "metadata": {},
   "outputs": [
    {
     "data": {
      "text/plain": [
       "array([[0., 0., 0., ..., 0., 0., 0.],\n",
       "       [0., 0., 0., ..., 0., 0., 0.],\n",
       "       [0., 0., 0., ..., 0., 0., 0.],\n",
       "       ...,\n",
       "       [0., 0., 0., ..., 0., 0., 0.],\n",
       "       [0., 0., 0., ..., 0., 0., 0.],\n",
       "       [0., 0., 0., ..., 0., 0., 0.]])"
      ]
     },
     "execution_count": 249,
     "metadata": {},
     "output_type": "execute_result"
    }
   ],
   "source": [
    "clf.tree_distances"
   ]
  },
  {
   "cell_type": "code",
   "execution_count": 272,
   "metadata": {},
   "outputs": [
    {
     "name": "stdout",
     "output_type": "stream",
     "text": [
      "CPU times: user 1.33 ms, sys: 0 ns, total: 1.33 ms\n",
      "Wall time: 1.23 ms\n"
     ]
    },
    {
     "data": {
      "text/plain": [
       "NearestNeighbors(metric='euclidean')"
      ]
     },
     "execution_count": 272,
     "metadata": {},
     "output_type": "execute_result"
    }
   ],
   "source": [
    "%%time\n",
    "nn = NearestNeighbors(metric='euclidean')\n",
    "nn.fit(X)"
   ]
  },
  {
   "cell_type": "code",
   "execution_count": 273,
   "metadata": {},
   "outputs": [
    {
     "name": "stdout",
     "output_type": "stream",
     "text": [
      "CPU times: user 52.5 ms, sys: 2 µs, total: 52.5 ms\n",
      "Wall time: 51.6 ms\n"
     ]
    },
    {
     "data": {
      "text/plain": [
       "AgglomerativeClustering(linkage='single')"
      ]
     },
     "execution_count": 273,
     "metadata": {},
     "output_type": "execute_result"
    }
   ],
   "source": [
    "%%time\n",
    "clu=AgglomerativeClustering(affinity='euclidean', linkage='single')\n",
    "clu.fit(X)"
   ]
  },
  {
   "cell_type": "code",
   "execution_count": 282,
   "metadata": {},
   "outputs": [
    {
     "data": {
      "text/plain": [
       "(2999, 2)"
      ]
     },
     "execution_count": 282,
     "metadata": {},
     "output_type": "execute_result"
    }
   ],
   "source": [
    "clu.children_.shape"
   ]
  },
  {
   "cell_type": "code",
   "execution_count": 284,
   "metadata": {},
   "outputs": [
    {
     "data": {
      "text/plain": [
       "(array([  18.,   61.,   74.,   90.,  107.,  117.,  214.,  795., 1177.,\n",
       "         347.]),\n",
       " array([  2. ,  20.7,  39.4,  58.1,  76.8,  95.5, 114.2, 132.9, 151.6,\n",
       "        170.3, 189. ]),\n",
       " <BarContainer object of 10 artists>)"
      ]
     },
     "execution_count": 284,
     "metadata": {},
     "output_type": "execute_result"
    },
    {
     "data": {
      "image/png": "[encoded data removed]",
      "text/plain": [
       "<Figure size 432x288 with 1 Axes>"
      ]
     },
     "metadata": {
      "needs_background": "light"
     },
     "output_type": "display_data"
    }
   ],
   "source": [
    "\n",
    "plt.hist(counts)"
   ]
  },
  {
   "cell_type": "code",
   "execution_count": 281,
   "metadata": {},
   "outputs": [
    {
     "data": {
      "text/plain": [
       "141.65866666666668"
      ]
     },
     "execution_count": 281,
     "metadata": {},
     "output_type": "execute_result"
    }
   ],
   "source": [
    "np.mean(counts) "
   ]
  },
  {
   "cell_type": "code",
   "execution_count": 289,
   "metadata": {},
   "outputs": [
    {
     "data": {
      "text/plain": [
       "0"
      ]
     },
     "execution_count": 289,
     "metadata": {},
     "output_type": "execute_result"
    }
   ],
   "source": [
    "np.min([1,0])"
   ]
  },
  {
   "cell_type": "code",
   "execution_count": 285,
   "metadata": {},
   "outputs": [],
   "source": [
    "from rsq.agglomerative_helpers import get_decision_paths as gdp\n",
    "from "
   ]
  },
  {
   "cell_type": "code",
   "execution_count": 283,
   "metadata": {},
   "outputs": [
    {
     "name": "stdout",
     "output_type": "stream",
     "text": [
      "CPU times: user 26.2 ms, sys: 4 ms, total: 30.2 ms\n",
      "Wall time: 30 ms\n"
     ]
    }
   ],
   "source": [
    "%%time\n",
    "decision_paths, counts = get_decision_paths(n, clu.children_)"
   ]
  },
  {
   "cell_type": "code",
   "execution_count": 286,
   "metadata": {},
   "outputs": [],
   "source": [
    "_, counts2 = gdp(n, clu.children_)"
   ]
  },
  {
   "cell_type": "code",
   "execution_count": 288,
   "metadata": {},
   "outputs": [
    {
     "data": {
      "text/plain": [
       "5997"
      ]
     },
     "execution_count": 288,
     "metadata": {},
     "output_type": "execute_result"
    }
   ],
   "source": [
    "np.max(clu.children_)"
   ]
  },
  {
   "cell_type": "code",
   "execution_count": 287,
   "metadata": {},
   "outputs": [
    {
     "data": {
      "text/plain": [
       "(array([  18.,   61.,   74.,   90.,  107.,  117.,  214.,  795., 1177.,\n",
       "         347.]),\n",
       " array([  2. ,  20.7,  39.4,  58.1,  76.8,  95.5, 114.2, 132.9, 151.6,\n",
       "        170.3, 189. ]),\n",
       " <BarContainer object of 10 artists>)"
      ]
     },
     "execution_count": 287,
     "metadata": {},
     "output_type": "execute_result"
    },
    {
     "data": {
      "image/png": "[encoded data removed]",
      "text/plain": [
       "<Figure size 432x288 with 1 Axes>"
      ]
     },
     "metadata": {
      "needs_background": "light"
     },
     "output_type": "display_data"
    }
   ],
   "source": [
    "plt.hist(counts2)"
   ]
  },
  {
   "cell_type": "code",
   "execution_count": 275,
   "metadata": {},
   "outputs": [
    {
     "name": "stdout",
     "output_type": "stream",
     "text": [
      "CPU times: user 1.48 s, sys: 5.31 ms, total: 1.49 s\n",
      "Wall time: 1.48 s\n"
     ]
    },
    {
     "data": {
      "text/plain": [
       "array([[134. , 141. ,  28.5, ..., 139. ,  29. ,  32.5],\n",
       "       [ 36.5,   9.5, 160. , ...,  41.5, 142.5, 164. ],\n",
       "       [ 28. ,  35. , 128.5, ...,  33. , 111. , 132.5],\n",
       "       ...,\n",
       "       [  7. ,  37. , 153.5, ...,   8. , 136. , 157.5],\n",
       "       [ 27.5,  34.5, 142. , ...,  32.5, 124.5, 146. ],\n",
       "       [ 10. ,  45. , 161.5, ...,  20. , 144. , 165.5]])"
      ]
     },
     "execution_count": 275,
     "metadata": {},
     "output_type": "execute_result"
    }
   ],
   "source": [
    "%%time\n",
    "get_tree_distances(n, decision_paths, inds, counts)"
   ]
  },
  {
   "cell_type": "code",
   "execution_count": 212,
   "metadata": {},
   "outputs": [
    {
     "name": "stdout",
     "output_type": "stream",
     "text": [
      "CPU times: user 1min 49s, sys: 320 ms, total: 1min 49s\n",
      "Wall time: 1min 48s\n"
     ]
    },
    {
     "name": "stderr",
     "output_type": "stream",
     "text": [
      "/home/hhelm/venvs/apu/lib/python3.6/site-packages/ipykernel_launcher.py:17: RuntimeWarning: divide by zero encountered in true_divide\n"
     ]
    }
   ],
   "source": [
    "%%time\n",
    "no_jit_get_tree_distances(n, decision_paths, inds, counts)"
   ]
  },
  {
   "cell_type": "code",
   "execution_count": 12,
   "metadata": {},
   "outputs": [],
   "source": [
    "class ProjectionAgglomerativeClassifier(AgglomerativeClassifier):\n",
    "    def __init__(self, \n",
    "                 projector=None, projection_kwargs={},\n",
    "                 n_clusters=2, affinity='cosine', linkage='average',\n",
    "                 n_neighbors=1,\n",
    "                 max_tree_distance=None,\n",
    "                 soft_max_multiplier=1,\n",
    "                classes=None):\n",
    "        \n",
    "        if projector is \"gaussian\":\n",
    "            self.projector=GaussianRandomProjection\n",
    "        else:\n",
    "            self.projector=projector\n",
    "\n",
    "        self.projection_kwargs=projection_kwargs\n",
    "        \n",
    "        super().__init__(n_clusters = n_clusters, affinity = affinity, linkage = linkage,\n",
    "                         n_neighbors = n_neighbors, classes = classes, max_tree_distance=max_tree_distance,\n",
    "                         soft_max_multiplier=soft_max_multiplier)\n",
    "        \n",
    "        \n",
    "    def fit(self, X, y):\n",
    "        if self.projector is None:\n",
    "            super().fit(X, y)\n",
    "        else:\n",
    "            self.projector = self.projector(**self.projection_kwargs)\n",
    "            self.projector.fit(X)\n",
    "            super().fit(self.projector.transform(X), y)\n",
    "  \n",
    "\n",
    "    def predict_proba(self, X):\n",
    "        if self.projector is None:\n",
    "            return super().predict_proba(X)\n",
    "        else:\n",
    "            self.projector = self.projector(**self.projection_kwargs)\n",
    "            self.projector.fit(X)\n",
    "            return super().predict_proba(self.projector.transform(X))\n",
    "\n",
    "    \n",
    "    def predict(self, X):\n",
    "        return self.classes_[np.argmax(self.predict_proba(X), axis=1)]"
   ]
  },
  {
   "cell_type": "code",
   "execution_count": 118,
   "metadata": {},
   "outputs": [],
   "source": [
    "@jit(nopython=True)\n",
    "def get_decision_paths(n, children_array):\n",
    "    ind_to_path_array = np.zeros((n, n))\n",
    "    ind_to_path_array[:, 0] = np.arange(n, dtype=np.int32)\n",
    "    counts = np.ones(n, dtype=np.int32)\n",
    "\n",
    "    for i in range(children_array.shape[0]):\n",
    "        node_id = i + n\n",
    "        left = children_array[i,0]\n",
    "        right = children_array[i,1]\n",
    "                        \n",
    "        for k in range(n):\n",
    "            if left == ind_to_path_array[k, counts[k]-1] or right == ind_to_path_array[k, counts[k]-1]:\n",
    "                ind_to_path_array[k, counts[k]] = node_id\n",
    "                counts[k] += 1\n",
    "                                \n",
    "    return ind_to_path_array, counts"
   ]
  },
  {
   "cell_type": "code",
   "execution_count": 187,
   "metadata": {},
   "outputs": [],
   "source": [
    "@jit(nopython=True)\n",
    "def get_tree_distances(n, decision_paths, labeled_inds, counts):\n",
    "    tree_distances = np.zeros((n, len(labeled_inds)))\n",
    "\n",
    "    for i in range(n):\n",
    "        temp_path1=decision_paths[i, :counts[i]]\n",
    "\n",
    "        for j in range(len(labeled_inds)):\n",
    "            temp_path2=decision_paths[labeled_inds[j], :counts[labeled_inds[j]]]\n",
    "\n",
    "            for k in range(counts[j]):    \n",
    "                if np.sum(temp_path2[k] == temp_path1) > 0:\n",
    "                    path1_ind = np.argwhere(temp_path1 == temp_path2[k])[0]\n",
    "\n",
    "                    tree_distances[i,j] = (k + path1_ind[0] + 2) / 2\n",
    "                    break\n",
    "\n",
    "    tree_distances = 1 / tree_distances\n",
    "#     tree_distances = softmax(tree_distances, axis=0)"
   ]
  },
  {
   "cell_type": "code",
   "execution_count": 211,
   "metadata": {},
   "outputs": [],
   "source": []
  },
  {
   "cell_type": "code",
   "execution_count": 124,
   "metadata": {},
   "outputs": [
    {
     "name": "stdout",
     "output_type": "stream",
     "text": [
      "CPU times: user 5 µs, sys: 0 ns, total: 5 µs\n",
      "Wall time: 11 µs\n"
     ]
    }
   ],
   "source": [
    "%time\n",
    "get_tree_distances(n, arrays[0], inds, arrays[1])"
   ]
  },
  {
   "cell_type": "code",
   "execution_count": 168,
   "metadata": {},
   "outputs": [
    {
     "data": {
      "text/plain": [
       "2"
      ]
     },
     "execution_count": 168,
     "metadata": {},
     "output_type": "execute_result"
    }
   ],
   "source": [
    "np.where(np.array([1,2,3,4]) == 3)[0][0]"
   ]
  },
  {
   "cell_type": "code",
   "execution_count": 173,
   "metadata": {},
   "outputs": [
    {
     "data": {
      "text/plain": [
       "(array([2]),)"
      ]
     },
     "execution_count": 173,
     "metadata": {},
     "output_type": "execute_result"
    }
   ],
   "source": [
    "np.nonzero(np.array([1,2,3,4]) == 3)"
   ]
  },
  {
   "cell_type": "code",
   "execution_count": 93,
   "metadata": {},
   "outputs": [
    {
     "name": "stdout",
     "output_type": "stream",
     "text": [
      "CPU times: user 5 µs, sys: 0 ns, total: 5 µs\n",
      "Wall time: 11.2 µs\n"
     ]
    }
   ],
   "source": [
    "%time\n",
    "dicts= _get_decision_paths(n, children)"
   ]
  },
  {
   "cell_type": "code",
   "execution_count": 117,
   "metadata": {},
   "outputs": [
    {
     "name": "stdout",
     "output_type": "stream",
     "text": [
      "CPU times: user 5 µs, sys: 0 ns, total: 5 µs\n",
      "Wall time: 9.78 µs\n"
     ]
    }
   ],
   "source": [
    "%time\n",
    "arrays = get_decision_paths(n, children)"
   ]
  },
  {
   "cell_type": "code",
   "execution_count": 106,
   "metadata": {},
   "outputs": [
    {
     "name": "stdout",
     "output_type": "stream",
     "text": [
      "CPU times: user 5 µs, sys: 0 ns, total: 5 µs\n",
      "Wall time: 10.3 µs\n"
     ]
    }
   ],
   "source": [
    "%time\n",
    "jitted = jit_get_decision_paths(n, children)"
   ]
  }
 ],
 "metadata": {
  "kernelspec": {
   "display_name": "APU",
   "language": "python",
   "name": "apu"
  },
  "language_info": {
   "codemirror_mode": {
    "name": "ipython",
    "version": 3
   },
   "file_extension": ".py",
   "mimetype": "text/x-python",
   "name": "python",
   "nbconvert_exporter": "python",
   "pygments_lexer": "ipython3",
   "version": "3.6.9"
  }
 },
 "nbformat": 4,
 "nbformat_minor": 5
}

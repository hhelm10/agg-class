{
 "cells": [
  {
   "cell_type": "code",
   "execution_count": 2,
   "metadata": {},
   "outputs": [],
   "source": [
    "import os\n",
    "import sys\n",
    "import json\n",
    "import argparse\n",
    "from time import time\n",
    "from functools import partial\n",
    "\n",
    "import numpy as np\n",
    "import pandas as pd\n",
    "\n",
    "from tqdm import tqdm\n",
    "\n",
    "from sklearn.preprocessing import normalize\n",
    "from sklearn.random_projection import GaussianRandomProjection\n",
    "from sklearn.mixture import GaussianMixture\n",
    "from sklearn.neighbors import NearestNeighbors\n",
    "\n",
    "from rsq.samplers import *\n",
    "from rsq.samplers import _Sampler\n",
    "from rsq.helpers import set_seeds\n",
    "\n",
    "from rsq import SVCEnsemble, AgglomerativeEnsemble, AgglomerativeClassifier\n",
    "from rsq.agglomerative_helpers import get_tree_distances, get_decision_paths\n",
    "\n",
    "from joblib import Parallel, delayed\n",
    "\n",
    "def stratified_sample(y, p=0.67, replace=False):\n",
    "    unique_y, counts = np.unique(y, return_counts=True)\n",
    "    n_per_class = np.array([int(np.math.floor(p*c)) for c in counts])\n",
    "    n_per_class = np.array([max([npc, 1]) for npc in n_per_class])\n",
    "    \n",
    "    inds = [np.random.choice(np.where(y == unique_y[i])[0], size=npc, replace=replace) for i, npc in enumerate(n_per_class)]\n",
    "    \n",
    "    return np.concatenate(inds)"
   ]
  },
  {
   "cell_type": "code",
   "execution_count": 3,
   "metadata": {},
   "outputs": [],
   "source": [
    "from sklearn.datasets import make_moons\n",
    "from sklearn.cluster import AgglomerativeClustering\n",
    "\n",
    "n=10\n",
    "X, y = make_moons(n, noise=0.1)\n",
    "\n",
    "n_labeled=1\n",
    "inds = np.random.choice(len(y), n_labeled, replace=False).astype(np.int32)\n",
    "\n",
    "y_ = -1 * np.ones(n)\n",
    "y_[inds] = y[inds]\n",
    "\n",
    "clu=AgglomerativeClassifier(affinity='euclidean', linkage='single')\n",
    "clu.fit(X, y_)\n",
    "\n",
    "decision_paths, counts = get_decision_paths(n, clu.model.children_)\n",
    "ha=get_tree_distances(n, decision_paths, inds, counts, max_tree_distance=2)"
   ]
  },
  {
   "cell_type": "code",
   "execution_count": 4,
   "metadata": {},
   "outputs": [],
   "source": [
    "def few_shot_sample(y, n_samples_per_class=1):\n",
    "    unique_y = np.unique(y)    \n",
    "    inds = [np.random.choice(np.where(y == c)[0], size=n_samples_per_class, replace=False) for c in unique_y]\n",
    "    \n",
    "    return np.concatenate(inds)"
   ]
  },
  {
   "cell_type": "code",
   "execution_count": 5,
   "metadata": {},
   "outputs": [
    {
     "name": "stdout",
     "output_type": "stream",
     "text": [
      "(32682, 2048) 32682 500 29 68.0 83\n"
     ]
    }
   ],
   "source": [
    "# --\n",
    "# Experiment parameters & initial data loading\n",
    "\n",
    "np.random.seed(1)\n",
    "\n",
    "\n",
    "data_files = ['../output/feats/crow_resnet50/birdsnap/']\n",
    "models = [s.split('/')[-3] for s in data_files]\n",
    "\n",
    "\n",
    "X = [np.load(os.path.join(f, 'X.npy')).astype(np.float64) for f in data_files][0]\n",
    "X = X.copy() / np.sqrt((X.copy() ** 2).sum(axis=-1, keepdims=True))\n",
    "y_str = np.load(os.path.join(data_files[0], 'y.npy'))\n",
    "classes_str, class_counts= np.unique(y_str, return_counts=True)\n",
    "y=np.zeros(len(y_str))\n",
    "for i, str_ in enumerate(classes_str):\n",
    "    y[np.where(y_str == str_)[0]] = i\n",
    "\n",
    "y = y.astype(int)\n",
    "classes=np.unique(y)\n",
    "\n",
    "print(X.shape, len(y), len(classes), np.min(class_counts), np.median(class_counts), np.max(class_counts))"
   ]
  },
  {
   "cell_type": "code",
   "execution_count": 6,
   "metadata": {},
   "outputs": [],
   "source": [
    "from sklearn.svm import LinearSVC\n",
    "\n",
    "def ssl_exp(X, y, n_samples_per_class=1, acorn=None):    \n",
    "    inds_sup = few_shot_sample(y, n_samples_per_class)\n",
    "    inds_unsup = np.array([i for i in range(len(y)) if i not in inds_sup]).astype(int)\n",
    "    X=X.copy()\n",
    "\n",
    "    y_ = -1 * np.ones(n)\n",
    "    y_[inds_sup] = y[inds_sup]\n",
    "    \n",
    "    #- 2 = Supervised, Semisupervised\n",
    "    accs = np.zeros(2)\n",
    "    times = np.zeros(2)\n",
    "        \n",
    "    \n",
    "    print(\"begin fit2\")\n",
    "    #- Semi-Supervised\n",
    "    svc_semisup = AgglomerativeEnsemble(n_estimators=50, p_inbag=1, \n",
    "                                        projector='gaussian',\n",
    "                            projection_kwargs={'n_components': 64},\n",
    "                                        linkage='average', max_tree_distance=400)\n",
    "    time_ = time()\n",
    "    svc_semisup.fit(X, y_)\n",
    "    \n",
    "    accs[1] = (svc_semisup.predict(X[inds_unsup]) == y[inds_unsup]).mean()\n",
    "    times[1] = time() - time_\n",
    "    \n",
    "    print(\"finish fit+predict 2 in\", times[1], \"seconds\")\n",
    "    time_ = time()\n",
    "    \n",
    "    \n",
    "    print(\"begin fit1\")\n",
    "    #- Supervised\n",
    "    svc_sup = LinearSVC(C=1)\n",
    "    time_ = time()\n",
    "    svc_sup.fit(X[inds_sup], y[inds_sup])\n",
    "    accs[0] = (svc_sup.predict(X[inds_unsup]) == y[inds_unsup]).mean()\n",
    "    times[0] = time() - time_\n",
    "    print(\"finish fit+predict 1 in\", times[0], \"seconds\")\n",
    "        \n",
    "    return accs, times"
   ]
  },
  {
   "cell_type": "code",
   "execution_count": 19,
   "metadata": {},
   "outputs": [
    {
     "name": "stdout",
     "output_type": "stream",
     "text": [
      "1\n"
     ]
    }
   ],
   "source": [
    "np.random.seed(1)\n",
    "\n",
    "n_samples_per_class=[1]\n",
    "n_cores=40\n",
    "# n_mc=int(n_cores / len(prop_labeled))\n",
    "n_mc=1\n",
    "\n",
    "experiment_tuples = []\n",
    "\n",
    "for i, p in enumerate(n_samples_per_class):\n",
    "    for _ in range(n_mc):\n",
    "        all_inds = stratified_sample(y, p=0.2, replace=False)\n",
    "        n=len(all_inds)\n",
    "        \n",
    "        experiment_tuples.append((X[all_inds], y[all_inds], p))\n",
    "    \n",
    "\n",
    "condensed_func = lambda x: ssl_exp(*x)\n",
    "start_time = time()\n",
    "print(len(experiment_tuples))"
   ]
  },
  {
   "cell_type": "code",
   "execution_count": 20,
   "metadata": {},
   "outputs": [],
   "source": [
    "X_, y_, n_ = experiment_tuples[0]"
   ]
  },
  {
   "cell_type": "code",
   "execution_count": 10,
   "metadata": {},
   "outputs": [
    {
     "name": "stdout",
     "output_type": "stream",
     "text": [
      "CPU times: user 6.78 ms, sys: 0 ns, total: 6.78 ms\n",
      "Wall time: 6.27 ms\n"
     ]
    },
    {
     "data": {
      "text/plain": [
       "NearestNeighbors(metric='cosine')"
      ]
     },
     "execution_count": 10,
     "metadata": {},
     "output_type": "execute_result"
    }
   ],
   "source": [
    "%%time\n",
    "nn = NearestNeighbors(metric='cosine')\n",
    "nn.fit(X_)"
   ]
  },
  {
   "cell_type": "code",
   "execution_count": 11,
   "metadata": {},
   "outputs": [
    {
     "name": "stdout",
     "output_type": "stream",
     "text": [
      "CPU times: user 23.7 s, sys: 21.6 ms, total: 23.8 s\n",
      "Wall time: 23.8 s\n"
     ]
    },
    {
     "data": {
      "text/plain": [
       "AgglomerativeClustering(affinity='cosine', linkage='single')"
      ]
     },
     "execution_count": 11,
     "metadata": {},
     "output_type": "execute_result"
    }
   ],
   "source": [
    "%%time\n",
    "clu=AgglomerativeClustering(affinity='cosine', linkage='single')\n",
    "clu.fit(X_)"
   ]
  },
  {
   "cell_type": "code",
   "execution_count": 14,
   "metadata": {},
   "outputs": [
    {
     "name": "stdout",
     "output_type": "stream",
     "text": [
      "CPU times: user 158 ms, sys: 40.1 ms, total: 198 ms\n",
      "Wall time: 196 ms\n"
     ]
    }
   ],
   "source": [
    "%%time\n",
    "decision_paths, counts = get_decision_paths(X_.shape[0], clu.children_)"
   ]
  },
  {
   "cell_type": "code",
   "execution_count": 16,
   "metadata": {},
   "outputs": [
    {
     "name": "stdout",
     "output_type": "stream",
     "text": [
      "CPU times: user 1min 16s, sys: 11.1 ms, total: 1min 16s\n",
      "Wall time: 1min 16s\n"
     ]
    }
   ],
   "source": [
    "%%time\n",
    "tree_distances = get_tree_distances(X_.shape[0], decision_paths, np.arange(500), counts, max_tree_distance=200)"
   ]
  },
  {
   "cell_type": "code",
   "execution_count": 17,
   "metadata": {},
   "outputs": [
    {
     "name": "stdout",
     "output_type": "stream",
     "text": [
      "CPU times: user 3min 39s, sys: 284 µs, total: 3min 39s\n",
      "Wall time: 3min 39s\n"
     ]
    }
   ],
   "source": [
    "%%time\n",
    "tree_distances = get_tree_distances(X_.shape[0], decision_paths, np.arange(500), counts, max_tree_distance=400)"
   ]
  },
  {
   "cell_type": "code",
   "execution_count": 18,
   "metadata": {},
   "outputs": [
    {
     "name": "stdout",
     "output_type": "stream",
     "text": [
      "CPU times: user 20min 54s, sys: 26.8 ms, total: 20min 54s\n",
      "Wall time: 20min 55s\n"
     ]
    }
   ],
   "source": [
    "%%time\n",
    "tree_distances = get_tree_distances(X_.shape[0], decision_paths, np.arange(500), counts, max_tree_distance=5000)"
   ]
  }
 ],
 "metadata": {
  "kernelspec": {
   "display_name": "APU",
   "language": "python",
   "name": "apu"
  },
  "language_info": {
   "codemirror_mode": {
    "name": "ipython",
    "version": 3
   },
   "file_extension": ".py",
   "mimetype": "text/x-python",
   "name": "python",
   "nbconvert_exporter": "python",
   "pygments_lexer": "ipython3",
   "version": "3.6.9"
  }
 },
 "nbformat": 4,
 "nbformat_minor": 4
}

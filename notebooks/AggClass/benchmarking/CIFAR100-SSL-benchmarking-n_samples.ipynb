{
 "cells": [
  {
   "cell_type": "code",
   "execution_count": 1,
   "metadata": {},
   "outputs": [],
   "source": [
    "import os\n",
    "import sys\n",
    "import json\n",
    "import argparse\n",
    "from time import time\n",
    "from functools import partial\n",
    "\n",
    "import numpy as np\n",
    "import pandas as pd\n",
    "\n",
    "from tqdm import tqdm\n",
    "from sklearn.neighbors import NearestNeighbors\n",
    "\n",
    "from rsq import SVCEnsemble, AgglomerativeEnsemble\n",
    "from rsq.agglomerative_helpers import get_tree_distances, get_decision_paths\n",
    "\n",
    "from joblib import Parallel, delayed\n",
    "\n",
    "import torchvision\n",
    "\n",
    "import pickle\n",
    "\n",
    "def stratified_sample(y, p=0.67, replace=False):\n",
    "    unique_y, counts = np.unique(y, return_counts=True)\n",
    "    n_per_class = np.array([int(np.math.floor(p*c)) for c in counts])\n",
    "    n_per_class = np.array([max([npc, 1]) for npc in n_per_class])\n",
    "    \n",
    "    inds = [np.random.choice(np.where(y == unique_y[i])[0], size=npc, replace=replace) for i, npc in enumerate(n_per_class)]\n",
    "    \n",
    "    return np.concatenate(inds)\n",
    "\n",
    "def few_shot_sample(y, n_samples_per_class=1):\n",
    "    unique_y = np.unique(y)    \n",
    "    inds = [np.random.choice(np.where(y == c)[0], size=n_samples_per_class, replace=False) for c in unique_y]\n",
    "    \n",
    "    return np.concatenate(inds)"
   ]
  },
  {
   "cell_type": "code",
   "execution_count": 2,
   "metadata": {},
   "outputs": [],
   "source": [
    "#- Data processing 1\n",
    "\n",
    "class Dataset:\n",
    "    def __init__(self, file='cifar_100_Bit_m-r101x1_embd.p', train=True, classes=[]):\n",
    "        if train:\n",
    "            self.data = pickle.load(open(file, 'rb'))[0][0]\n",
    "            self.targets = np.concatenate(pickle.load(open(file, 'rb'))[0][1])\n",
    "        else:\n",
    "            self.data = pickle.load(open(file, 'rb'))[1][0]\n",
    "            self.targets = np.concatenate(pickle.load(open(file, 'rb'))[1][1])\n",
    "        \n",
    "        self.classes = classes"
   ]
  },
  {
   "cell_type": "code",
   "execution_count": 3,
   "metadata": {},
   "outputs": [
    {
     "name": "stdout",
     "output_type": "stream",
     "text": [
      "Files already downloaded and verified\n"
     ]
    }
   ],
   "source": [
    "#- Data processing 2\n",
    "cif100 = torchvision.datasets.CIFAR100(root='./data', train=True, download=True)\n",
    "\n",
    "file='/home/hhelm/data/cifar_100_Bit_m-r101x1_embd.p'\n",
    "\n",
    "\n",
    "trainset = Dataset(file, train=True, classes=cif100.classes)\n",
    "X = trainset.data\n",
    "y = trainset.targets\n",
    "\n",
    "testset = Dataset(file, train=False, classes=cif100.classes)\n",
    "X_test = testset.data\n",
    "y_test = testset.targets\n",
    "\n",
    "del trainset, testset, cif100"
   ]
  },
  {
   "cell_type": "code",
   "execution_count": 4,
   "metadata": {},
   "outputs": [],
   "source": [
    "def benchmark_agg_class(X, y, inds_sup, kwargs):\n",
    "    y_ = -1 * np.ones(len(y))\n",
    "    y_[inds_sup] = y[inds_sup]\n",
    "    \n",
    "    agg_class = AgglomerativeEnsemble(**kwargs)\n",
    "    fit_time_ = time()\n",
    "    agg_class.fit(X, y_)\n",
    "    fit_time = time() - fit_time_\n",
    "    \n",
    "    inf_time_ = time()\n",
    "    accuracy = (agg_class.predict(X_test) == y_test).mean()\n",
    "    inf_time = time() - inf_time_\n",
    "    \n",
    "    print(accuracy, fit_time, inf_time)\n",
    "    \n",
    "    return accuracy, fit_time, inf_time\n",
    "\n",
    "benchmark = lambda x: benchmark_agg_class(*x)"
   ]
  },
  {
   "cell_type": "code",
   "execution_count": 14,
   "metadata": {},
   "outputs": [
    {
     "name": "stdout",
     "output_type": "stream",
     "text": [
      "finished in 101.6\n"
     ]
    }
   ],
   "source": [
    "np.random.seed(1)\n",
    "\n",
    "n_samples_per_class_list = [1,2,4,8,16]\n",
    "kwargs = {'n_estimators':1, 'p_inbag':1, \n",
    "          'projector':'gaussian', 'projection_kwargs':{'n_components': 256}, \n",
    "          'affinity':'euclidean', 'linkage':'average', \n",
    "          'max_tree_distance':400, 'n_jobs':50}\n",
    "\n",
    "n_cores=70\n",
    "# n_mc=int(n_cores / len(prop_labeled))\n",
    "n_mc=10\n",
    "\n",
    "experiment_tuples = []\n",
    "p=0.2\n",
    "for i, n_samples_per_class in enumerate(n_samples_per_class_list):\n",
    "    for _ in range(n_mc):\n",
    "        all_inds = stratified_sample(y, p=0.2, replace=False)\n",
    "        inds_sup = few_shot_sample(y[all_inds], n_samples_per_class)\n",
    "        experiment_tuples.append((X[all_inds], y[all_inds], inds_sup, kwargs))\n",
    "    \n",
    "\n",
    "start_time = time()\n",
    "try:\n",
    "    results_p_unlabeled = Parallel(n_jobs=n_cores)(delayed(benchmark)(tupl) for tupl in experiment_tuples)\n",
    "    print(\"finished in %1.1f\"%(time() - start_time))\n",
    "except:\n",
    "    print(\"error after %1.1f\"%(time() - start_time))\n",
    "    assert 0 == 1"
   ]
  },
  {
   "cell_type": "code",
   "execution_count": 23,
   "metadata": {},
   "outputs": [],
   "source": [
    "accuracies = np.zeros((len(n_samples_per_class_list), n_mc))\n",
    "fit_times = np.zeros((len(n_samples_per_class_list), n_mc))\n",
    "inf_times = np.zeros((len(n_samples_per_class_list), n_mc))\n",
    "\n",
    "for i, triple in enumerate(results_p_unlabeled):\n",
    "    for j in range(n_mc):\n",
    "        accuracies[int(np.math.floor(i/n_mc)), j] = triple[0]\n",
    "        fit_times[int(np.math.floor(i/n_mc)), j] = triple[1]\n",
    "        inf_times[int(np.math.floor(i/n_mc)), j] = triple[2]"
   ]
  },
  {
   "cell_type": "code",
   "execution_count": 26,
   "metadata": {},
   "outputs": [
    {
     "data": {
      "image/png": "[encoded data removed]",
      "text/plain": [
       "<Figure size 1080x360 with 3 Axes>"
      ]
     },
     "metadata": {
      "needs_background": "light"
     },
     "output_type": "display_data"
    }
   ],
   "source": [
    "import matplotlib.pyplot as plt\n",
    "fig, ax = plt.subplots(1,3, figsize=(15,5))\n",
    "\n",
    "for ax_ in ax:\n",
    "    ax_.set_xscale('linear')\n",
    "\n",
    "ax[0].scatter(n_samples_per_class_list, np.mean(accuracies, axis=-1))\n",
    "ax[0].set_ylabel('accuracy')\n",
    "ax[0].set_xlabel('n samples per class')\n",
    "\n",
    "# fig, ax = plt.subplots(1,3)\n",
    "ax[1].scatter(n_samples_per_class_list, np.mean(fit_times, axis=-1))\n",
    "ax[1].set_ylabel('fit time (s)')\n",
    "ax[1].set_xlabel('n samples per class')\n",
    "\n",
    "# fig, ax = plt.subplots(1,3)\n",
    "ax[2].scatter(n_samples_per_class_list, np.mean(inf_times, axis=-1))\n",
    "ax[2].set_ylabel('inf time (s)')\n",
    "ax[2].set_xlabel('n samples per class')\n",
    "\n",
    "plt.tight_layout()"
   ]
  }
 ],
 "metadata": {
  "kernelspec": {
   "display_name": "APU",
   "language": "python",
   "name": "apu"
  },
  "language_info": {
   "codemirror_mode": {
    "name": "ipython",
    "version": 3
   },
   "file_extension": ".py",
   "mimetype": "text/x-python",
   "name": "python",
   "nbconvert_exporter": "python",
   "pygments_lexer": "ipython3",
   "version": "3.6.9"
  }
 },
 "nbformat": 4,
 "nbformat_minor": 4
}

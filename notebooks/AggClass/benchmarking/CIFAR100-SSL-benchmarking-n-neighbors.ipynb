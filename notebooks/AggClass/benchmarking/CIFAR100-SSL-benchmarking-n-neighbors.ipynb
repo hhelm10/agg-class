{
 "cells": [
  {
   "cell_type": "code",
   "execution_count": 1,
   "metadata": {},
   "outputs": [],
   "source": [
    "import os\n",
    "import sys\n",
    "import json\n",
    "import argparse\n",
    "from time import time\n",
    "from functools import partial\n",
    "\n",
    "import numpy as np\n",
    "import pandas as pd\n",
    "\n",
    "from tqdm import tqdm\n",
    "\n",
    "\n",
    "from rsq import AgglomerativeEnsemble\n",
    "\n",
    "from joblib import Parallel, delayed\n",
    "\n",
    "import torchvision\n",
    "\n",
    "import pickle\n",
    "\n",
    "def stratified_sample(y, p=0.67, replace=False):\n",
    "    unique_y, counts = np.unique(y, return_counts=True)\n",
    "    n_per_class = np.array([int(np.math.floor(p*c)) for c in counts])\n",
    "    n_per_class = np.array([max([npc, 1]) for npc in n_per_class])\n",
    "    \n",
    "    inds = [np.random.choice(np.where(y == unique_y[i])[0], size=npc, replace=replace) for i, npc in enumerate(n_per_class)]\n",
    "    \n",
    "    return np.concatenate(inds)\n",
    "\n",
    "def few_shot_sample(y, n_samples_per_class=1):\n",
    "    unique_y = np.unique(y)    \n",
    "    inds = [np.random.choice(np.where(y == c)[0], size=n_samples_per_class, replace=False) for c in unique_y]\n",
    "    \n",
    "    return np.concatenate(inds)"
   ]
  },
  {
   "cell_type": "code",
   "execution_count": 2,
   "metadata": {},
   "outputs": [],
   "source": [
    "from genieclust import Genie"
   ]
  },
  {
   "cell_type": "code",
   "execution_count": 3,
   "metadata": {},
   "outputs": [],
   "source": [
    "#- Data processing 1\n",
    "\n",
    "class Dataset:\n",
    "    def __init__(self, file='cifar_100_Bit_m-r101x1_embd.p', train=True, classes=[]):\n",
    "        if train:\n",
    "            self.data = pickle.load(open(file, 'rb'))[0][0]\n",
    "            self.targets = np.concatenate(pickle.load(open(file, 'rb'))[0][1])\n",
    "        else:\n",
    "            self.data = pickle.load(open(file, 'rb'))[1][0]\n",
    "            self.targets = np.concatenate(pickle.load(open(file, 'rb'))[1][1])\n",
    "        \n",
    "        self.classes = classes"
   ]
  },
  {
   "cell_type": "code",
   "execution_count": 4,
   "metadata": {},
   "outputs": [],
   "source": [
    "#- Data processing 2\n",
    "# cif100 = torchvision.datasets.CIFAR100(root='./data', train=True, download=True)\n",
    "\n",
    "file='/home/hhelm/data/cifar_100_Bit_m-r101x1_embd.p'\n",
    "\n",
    "\n",
    "trainset = Dataset(file, train=True, classes=[])\n",
    "X = trainset.data\n",
    "y = trainset.targets\n",
    "\n",
    "testset = Dataset(file, train=False, classes=[])\n",
    "X_test = testset.data\n",
    "y_test = testset.targets\n",
    "\n",
    "del trainset, testset"
   ]
  },
  {
   "cell_type": "code",
   "execution_count": 5,
   "metadata": {},
   "outputs": [],
   "source": [
    "def benchmark_agg_class(X, y, inds_sup, kwargs):\n",
    "    y_ = -1 * np.ones(len(y))\n",
    "    y_[inds_sup] = y[inds_sup]\n",
    "    \n",
    "    agg_class = AgglomerativeEnsemble(**kwargs)\n",
    "    fit_time_ = time()\n",
    "    agg_class.fit(X, y_)\n",
    "    fit_time = time() - fit_time_\n",
    "    \n",
    "    inf_time_ = time()\n",
    "    accuracy = (agg_class.predict(X_test) == y_test).mean()\n",
    "    inf_time = time() - inf_time_\n",
    "    \n",
    "    print(accuracy, fit_time, inf_time)\n",
    "    \n",
    "    return accuracy, fit_time, inf_time\n",
    "\n",
    "benchmark = lambda x: benchmark_agg_class(*x)"
   ]
  },
  {
   "cell_type": "code",
   "execution_count": 6,
   "metadata": {},
   "outputs": [],
   "source": [
    "%load_ext autoreload"
   ]
  },
  {
   "cell_type": "code",
   "execution_count": null,
   "metadata": {},
   "outputs": [
    {
     "name": "stdout",
     "output_type": "stream",
     "text": [
      "0.4209 350.2749798297882 60.84224772453308\n",
      "0.3877 357.95550656318665 61.516557455062866\n",
      "0.3796 361.26105093955994 62.2988805770874\n",
      "0.387 355.16170477867126 61.437841176986694\n",
      "0.3815 355.20537066459656 60.12126183509827\n",
      "0.3895 356.62959480285645 59.41148495674133\n",
      "0.3994 366.3004357814789 60.62957286834717\n",
      "0.4093 372.4794137477875 62.04636287689209\n",
      "0.3859 363.38510274887085 61.3030800819397\n",
      "0.4096 355.2924852371216 60.34713935852051\n"
     ]
    }
   ],
   "source": [
    "np.random.seed(1)\n",
    "import copy\n",
    "\n",
    "\n",
    "\n",
    "n_neighbors_list = [1, 2,4,8,16,32,64]\n",
    "kwargs = {'n_estimators':180, 'p_inbag':1, \n",
    "          'projector':'gaussian', 'projection_kwargs':{'n_components': 512}, \n",
    "          'affinity':'cosine', 'linkage':'average',\n",
    "          'max_tree_distance':400, 'n_jobs':30}\n",
    "\n",
    "n_cores=1\n",
    "# n_mc=int(n_cores / len(prop_labeled))\n",
    "n_mc=10\n",
    "\n",
    "experiment_tuples = []\n",
    "for i, n_neighbors in enumerate(n_neighbors_list):\n",
    "    for _ in range(n_mc):\n",
    "        temp_kwargs = copy.deepcopy(kwargs)\n",
    "        temp_kwargs['n_neighbors'] = n_neighbors\n",
    "        \n",
    "        all_inds = stratified_sample(y, p=0.5, replace=False)\n",
    "        inds_sup = few_shot_sample(y[all_inds])\n",
    "        experiment_tuples.append((X[all_inds], y[all_inds], inds_sup, temp_kwargs))\n",
    "    \n",
    "start_time = time()\n",
    "try:\n",
    "    results_p_unlabeled = Parallel(n_jobs=1)(delayed(benchmark)(tupl) for tupl in experiment_tuples)\n",
    "    print(\"finished in %1.1f\"%(time() - start_time))\n",
    "except:\n",
    "    print(\"error after %1.1f\"%(time() - start_time))\n",
    "    assert 0 == 1"
   ]
  },
  {
   "cell_type": "code",
   "execution_count": null,
   "metadata": {},
   "outputs": [],
   "source": [
    "time_ =time()\n",
    "gen = Genie(n_clusters=2,\n",
    "    gini_threshold=0.3,\n",
    "    M=1,\n",
    "    affinity='l2',\n",
    "    exact=False,\n",
    "    compute_full_tree=False,\n",
    "    compute_all_cuts=False,\n",
    "    postprocess='boundary',\n",
    "    cast_float32=True,\n",
    "    mlpack_enabled='auto',\n",
    "    mlpack_leaf_size=1,\n",
    "    nmslib_n_neighbors=64,\n",
    "    nmslib_params_init={'method': 'hnsw'},\n",
    "    nmslib_params_index={'post': 2},\n",
    "    nmslib_params_query={}).fit(X[all_inds])\n",
    "print(time() - time_)"
   ]
  },
  {
   "cell_type": "code",
   "execution_count": 8,
   "metadata": {},
   "outputs": [],
   "source": [
    "dist = 1 - X[all_inds] @ X[all_inds].T\n",
    "np.fill_diagonal(dist, 0)"
   ]
  },
  {
   "cell_type": "code",
   "execution_count": null,
   "metadata": {},
   "outputs": [],
   "source": [
    "time_ = time()\n",
    "gen = Genie(n_clusters=2,\n",
    "    gini_threshold=0.3,\n",
    "    M=1,\n",
    "    affinity='l2',\n",
    "    exact=True,\n",
    "    compute_full_tree=True,\n",
    "    compute_all_cuts=False,\n",
    "    postprocess='boundary',\n",
    "    cast_float32=True,\n",
    "    mlpack_enabled='auto',\n",
    "    mlpack_leaf_size=1,\n",
    "    nmslib_n_neighbors=64,\n",
    "    nmslib_params_init={'method': 'hnsw'},\n",
    "    nmslib_params_index={'post': 2},\n",
    "    nmslib_params_query={}).fit(X[all_inds])\n",
    "print(time() - time_)"
   ]
  },
  {
   "cell_type": "code",
   "execution_count": 10,
   "metadata": {},
   "outputs": [
    {
     "name": "stdout",
     "output_type": "stream",
     "text": [
      "13.039578914642334\n"
     ]
    }
   ],
   "source": [
    "from rsq import AgglomerativeClassifier\n",
    "\n",
    "y_ = -1 * np.ones(len(all_inds))\n",
    "y_[inds_sup] = y[all_inds][inds_sup]\n",
    "\n",
    "time_=time()\n",
    "AgglomerativeClassifier(linkage='average', n_neighbors_connectivity=64).fit(X[all_inds], y_)\n",
    "print(time() - time_)"
   ]
  },
  {
   "cell_type": "code",
   "execution_count": 34,
   "metadata": {},
   "outputs": [],
   "source": [
    "from sklearn.neighbors import NearestNeighbors\n",
    "\n",
    "nn = NearestNeighbors(n_neighbors=len(all_inds)-1).fit(X[all_inds])"
   ]
  },
  {
   "cell_type": "code",
   "execution_count": 33,
   "metadata": {},
   "outputs": [
    {
     "ename": "ValueError",
     "evalue": "Expected n_neighbors <= n_samples,  but n_samples = 5000, n_neighbors = 5001",
     "output_type": "error",
     "traceback": [
      "\u001b[0;31m---------------------------------------------------------------------------\u001b[0m",
      "\u001b[0;31mValueError\u001b[0m                                Traceback (most recent call last)",
      "\u001b[0;32m<ipython-input-33-616551a9cef5>\u001b[0m in \u001b[0;36m<module>\u001b[0;34m\u001b[0m\n\u001b[0;32m----> 1\u001b[0;31m \u001b[0mnn\u001b[0m\u001b[0;34m.\u001b[0m\u001b[0mkneighbors_graph\u001b[0m\u001b[0;34m(\u001b[0m\u001b[0;34m)\u001b[0m\u001b[0;34m\u001b[0m\u001b[0;34m\u001b[0m\u001b[0m\n\u001b[0m",
      "\u001b[0;32m~/venvs/apu/lib/python3.6/site-packages/sklearn/neighbors/_base.py\u001b[0m in \u001b[0;36mkneighbors_graph\u001b[0;34m(self, X, n_neighbors, mode)\u001b[0m\n\u001b[1;32m    822\u001b[0m         \u001b[0;31m# construct CSR matrix representation of the k-NN graph\u001b[0m\u001b[0;34m\u001b[0m\u001b[0;34m\u001b[0m\u001b[0;34m\u001b[0m\u001b[0m\n\u001b[1;32m    823\u001b[0m         \u001b[0;32mif\u001b[0m \u001b[0mmode\u001b[0m \u001b[0;34m==\u001b[0m \u001b[0;34m'connectivity'\u001b[0m\u001b[0;34m:\u001b[0m\u001b[0;34m\u001b[0m\u001b[0;34m\u001b[0m\u001b[0m\n\u001b[0;32m--> 824\u001b[0;31m             \u001b[0mA_ind\u001b[0m \u001b[0;34m=\u001b[0m \u001b[0mself\u001b[0m\u001b[0;34m.\u001b[0m\u001b[0mkneighbors\u001b[0m\u001b[0;34m(\u001b[0m\u001b[0mX\u001b[0m\u001b[0;34m,\u001b[0m \u001b[0mn_neighbors\u001b[0m\u001b[0;34m,\u001b[0m \u001b[0mreturn_distance\u001b[0m\u001b[0;34m=\u001b[0m\u001b[0;32mFalse\u001b[0m\u001b[0;34m)\u001b[0m\u001b[0;34m\u001b[0m\u001b[0;34m\u001b[0m\u001b[0m\n\u001b[0m\u001b[1;32m    825\u001b[0m             \u001b[0mn_queries\u001b[0m \u001b[0;34m=\u001b[0m \u001b[0mA_ind\u001b[0m\u001b[0;34m.\u001b[0m\u001b[0mshape\u001b[0m\u001b[0;34m[\u001b[0m\u001b[0;36m0\u001b[0m\u001b[0;34m]\u001b[0m\u001b[0;34m\u001b[0m\u001b[0;34m\u001b[0m\u001b[0m\n\u001b[1;32m    826\u001b[0m             \u001b[0mA_data\u001b[0m \u001b[0;34m=\u001b[0m \u001b[0mnp\u001b[0m\u001b[0;34m.\u001b[0m\u001b[0mones\u001b[0m\u001b[0;34m(\u001b[0m\u001b[0mn_queries\u001b[0m \u001b[0;34m*\u001b[0m \u001b[0mn_neighbors\u001b[0m\u001b[0;34m)\u001b[0m\u001b[0;34m\u001b[0m\u001b[0;34m\u001b[0m\u001b[0m\n",
      "\u001b[0;32m~/venvs/apu/lib/python3.6/site-packages/sklearn/neighbors/_base.py\u001b[0m in \u001b[0;36mkneighbors\u001b[0;34m(self, X, n_neighbors, return_distance)\u001b[0m\n\u001b[1;32m    681\u001b[0m                 \u001b[0;34m\"Expected n_neighbors <= n_samples, \"\u001b[0m\u001b[0;34m\u001b[0m\u001b[0;34m\u001b[0m\u001b[0m\n\u001b[1;32m    682\u001b[0m                 \u001b[0;34m\" but n_samples = %d, n_neighbors = %d\"\u001b[0m \u001b[0;34m%\u001b[0m\u001b[0;34m\u001b[0m\u001b[0;34m\u001b[0m\u001b[0m\n\u001b[0;32m--> 683\u001b[0;31m                 \u001b[0;34m(\u001b[0m\u001b[0mn_samples_fit\u001b[0m\u001b[0;34m,\u001b[0m \u001b[0mn_neighbors\u001b[0m\u001b[0;34m)\u001b[0m\u001b[0;34m\u001b[0m\u001b[0;34m\u001b[0m\u001b[0m\n\u001b[0m\u001b[1;32m    684\u001b[0m             )\n\u001b[1;32m    685\u001b[0m \u001b[0;34m\u001b[0m\u001b[0m\n",
      "\u001b[0;31mValueError\u001b[0m: Expected n_neighbors <= n_samples,  but n_samples = 5000, n_neighbors = 5001"
     ]
    }
   ],
   "source": [
    "nn.kneighbors_graph()"
   ]
  },
  {
   "cell_type": "code",
   "execution_count": 16,
   "metadata": {},
   "outputs": [
    {
     "name": "stdout",
     "output_type": "stream",
     "text": [
      "16.54620337486267\n",
      "[55 15 15 ... 47 47 12]\n"
     ]
    }
   ],
   "source": [
    "from sklearn.cluster import AgglomerativeClustering\n",
    "\n",
    "time_=time()\n",
    "clusters = AgglomerativeClustering(n_clusters=100, affinity='euclidean', linkage='average').fit_predict(X[all_inds])\n",
    "print(time() - time_)\n",
    "print(clusters)"
   ]
  },
  {
   "cell_type": "code",
   "execution_count": 17,
   "metadata": {},
   "outputs": [
    {
     "name": "stdout",
     "output_type": "stream",
     "text": [
      "1.57228684425354\n",
      "[55 15 15 ... 47 47 12]\n"
     ]
    }
   ],
   "source": [
    "time_=time()\n",
    "from sklearn.metrics import pairwise_distances\n",
    "\n",
    "dist = pairwise_distances(X[all_inds], metric='euclidean')\n",
    "clusters_precomp = AgglomerativeClustering(n_clusters=100, affinity='precomputed', linkage='average').fit_predict(dist)\n",
    "print(time() - time_)\n",
    "print(clusters_precomp)"
   ]
  },
  {
   "cell_type": "code",
   "execution_count": 18,
   "metadata": {},
   "outputs": [
    {
     "data": {
      "text/plain": [
       "1.0"
      ]
     },
     "execution_count": 18,
     "metadata": {},
     "output_type": "execute_result"
    }
   ],
   "source": [
    "(clusters == clusters_precomp).mean()"
   ]
  },
  {
   "cell_type": "code",
   "execution_count": 31,
   "metadata": {},
   "outputs": [
    {
     "name": "stdout",
     "output_type": "stream",
     "text": [
      "15.371596574783325\n"
     ]
    }
   ],
   "source": [
    "from sklearn.cluster import AgglomerativeClustering\n",
    "\n",
    "time_=time()\n",
    "clusters = AgglomerativeClustering(affinity='cosine', linkage='average').fit(X[all_inds])\n",
    "print(time() - time_)"
   ]
  },
  {
   "cell_type": "code",
   "execution_count": null,
   "metadata": {},
   "outputs": [],
   "source": []
  },
  {
   "cell_type": "code",
   "execution_count": 32,
   "metadata": {},
   "outputs": [
    {
     "name": "stdout",
     "output_type": "stream",
     "text": [
      "0.8454024791717529\n"
     ]
    }
   ],
   "source": [
    "from sklearn.metrics import pairwise_distances\n",
    "\n",
    "time_=time()\n",
    "dist = pairwise_distances(X[all_inds], metric='cosine')\n",
    "clusters= AgglomerativeClustering(affinity='precomputed', linkage='average').fit(dist)\n",
    "print(time() - time_)"
   ]
  },
  {
   "cell_type": "code",
   "execution_count": null,
   "metadata": {},
   "outputs": [],
   "source": [
    "np.random.seed(123)\n",
    "model_p = AgglomerativeClustering(\n",
    "  n_clusters          = 100,\n",
    "  affinity            = 'precomputed',\n",
    "  linkage             = 'average',\n",
    "  compute_full_tree   = True,\n",
    ")\n",
    "\n",
    "t    = time()\n",
    "dist = 1 - X @ X.T\n",
    "np.fill_diagonal(dist, 0)\n",
    "\n",
    "a = model_p.fit_predict(dist)\n",
    "a_time = time() - t\n",
    "\n",
    "# --\n",
    "\n",
    "np.random.seed(123)\n",
    "model_c = AgglomerativeClustering(\n",
    "  n_clusters          = 100,\n",
    "  affinity            = 'cosine',\n",
    "  linkage             = 'average',\n",
    "  compute_full_tree   = True,\n",
    ")\n",
    "\n",
    "t = time()\n",
    "b = model_c.fit_predict(X)\n",
    "b_time = time() - t\n",
    "\n",
    "assert (a == b).all()\n",
    "# passes\n",
    "\n",
    "print(b_time, a_time)\n",
    "# 14.483706951141357 0.9161789417266846\n",
    "print(b_time / a_time)"
   ]
  },
  {
   "cell_type": "code",
   "execution_count": null,
   "metadata": {},
   "outputs": [],
   "source": []
  },
  {
   "cell_type": "code",
   "execution_count": null,
   "metadata": {},
   "outputs": [],
   "source": []
  },
  {
   "cell_type": "code",
   "execution_count": null,
   "metadata": {},
   "outputs": [],
   "source": []
  },
  {
   "cell_type": "code",
   "execution_count": null,
   "metadata": {},
   "outputs": [],
   "source": [
    "accuracies = np.zeros((len(n_neighbors_list), n_mc))\n",
    "fit_times = np.zeros((len(n_neighbors_list), n_mc))\n",
    "inf_times = np.zeros((len(n_neighbors_list), n_mc))\n",
    "\n",
    "for i, triple in enumerate(results_p_unlabeled):\n",
    "    for j in range(n_mc):\n",
    "        accuracies[int(np.math.floor(i/n_mc)), j] = triple[0]\n",
    "        fit_times[int(np.math.floor(i/n_mc)), j] = triple[1]\n",
    "        inf_times[int(np.math.floor(i/n_mc)), j] = triple[2]"
   ]
  },
  {
   "cell_type": "code",
   "execution_count": 9,
   "metadata": {},
   "outputs": [
    {
     "data": {
      "image/png": "[encoded data removed]",
      "text/plain": [
       "<Figure size 1080x360 with 3 Axes>"
      ]
     },
     "metadata": {
      "needs_background": "light"
     },
     "output_type": "display_data"
    }
   ],
   "source": [
    "import matplotlib.pyplot as plt\n",
    "fig, ax = plt.subplots(1,3, figsize=(15,5))\n",
    "\n",
    "for ax_ in ax:\n",
    "    ax_.set_xscale('linear')\n",
    "\n",
    "ax[0].scatter(n_neighbors_list, np.mean(accuracies, axis=-1))\n",
    "ax[0].set_ylabel('accuracy')\n",
    "ax[0].set_xlabel('n neighbors')\n",
    "\n",
    "# fig, ax = plt.subplots(1,3)\n",
    "ax[1].scatter(n_neighbors_list, np.mean(fit_times, axis=-1))\n",
    "ax[1].set_ylabel('fit time (s)')\n",
    "# ax[1].set_xlabel('proportion o')\n",
    "\n",
    "# fig, ax = plt.subplots(1,3)\n",
    "ax[2].scatter(n_neighbors_list, np.mean(inf_times, axis=-1))\n",
    "ax[2].set_ylabel('inf time (s)')\n",
    "# ax[2].set_xlabel('proportion of')\n",
    "\n",
    "plt.tight_layout()"
   ]
  },
  {
   "cell_type": "code",
   "execution_count": null,
   "metadata": {},
   "outputs": [],
   "source": []
  }
 ],
 "metadata": {
  "kernelspec": {
   "display_name": "APU",
   "language": "python",
   "name": "apu"
  },
  "language_info": {
   "codemirror_mode": {
    "name": "ipython",
    "version": 3
   },
   "file_extension": ".py",
   "mimetype": "text/x-python",
   "name": "python",
   "nbconvert_exporter": "python",
   "pygments_lexer": "ipython3",
   "version": "3.6.9"
  }
 },
 "nbformat": 4,
 "nbformat_minor": 4
}

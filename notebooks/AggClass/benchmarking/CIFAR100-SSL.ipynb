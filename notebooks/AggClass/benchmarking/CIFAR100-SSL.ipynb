{
 "cells": [
  {
   "cell_type": "code",
   "execution_count": 1,
   "metadata": {},
   "outputs": [],
   "source": [
    "import os\n",
    "import sys\n",
    "import json\n",
    "import argparse\n",
    "from time import time\n",
    "from functools import partial\n",
    "\n",
    "import numpy as np\n",
    "import pandas as pd\n",
    "\n",
    "from tqdm import tqdm\n",
    "\n",
    "from sklearn.preprocessing import normalize\n",
    "from sklearn.random_projection import GaussianRandomProjection\n",
    "from sklearn.mixture import GaussianMixture\n",
    "from sklearn.neighbors import NearestNeighbors\n",
    "\n",
    "from rsq.samplers import *\n",
    "from rsq.samplers import _Sampler\n",
    "from rsq.helpers import set_seeds\n",
    "\n",
    "from rsq import SVCEnsemble, AgglomerativeEnsemble, AgglomerativeClassifier\n",
    "from rsq.agglomerative_helpers import get_tree_distances, get_decision_paths\n",
    "\n",
    "from joblib import Parallel, delayed\n",
    "\n",
    "import torchvision\n",
    "\n",
    "import pickle\n",
    "\n",
    "def stratified_sample(y, p=0.67, replace=False):\n",
    "    unique_y, counts = np.unique(y, return_counts=True)\n",
    "    n_per_class = np.array([int(np.math.floor(p*c)) for c in counts])\n",
    "    n_per_class = np.array([max([npc, 1]) for npc in n_per_class])\n",
    "    \n",
    "    inds = [np.random.choice(np.where(y == unique_y[i])[0], size=npc, replace=replace) for i, npc in enumerate(n_per_class)]\n",
    "    \n",
    "    return np.concatenate(inds)\n",
    "\n",
    "def few_shot_sample(y, n_samples_per_class=1):\n",
    "    unique_y = np.unique(y)    \n",
    "    inds = [np.random.choice(np.where(y == c)[0], size=n_samples_per_class, replace=False) for c in unique_y]\n",
    "    \n",
    "    return np.concatenate(inds)"
   ]
  },
  {
   "cell_type": "code",
   "execution_count": 2,
   "metadata": {},
   "outputs": [],
   "source": [
    "#- Data processing 1\n",
    "\n",
    "class Dataset:\n",
    "    def __init__(self, file='cifar_100_Bit_m-r101x1_embd.p', train=True, classes=[]):\n",
    "        if train:\n",
    "            self.data = pickle.load(open(file, 'rb'))[0][0]\n",
    "            self.targets = np.concatenate(pickle.load(open(file, 'rb'))[0][1])\n",
    "        else:\n",
    "            self.data = pickle.load(open(file, 'rb'))[1][0]\n",
    "            self.targets = np.concatenate(pickle.load(open(file, 'rb'))[1][1])\n",
    "        \n",
    "        self.classes = classes"
   ]
  },
  {
   "cell_type": "code",
   "execution_count": 3,
   "metadata": {},
   "outputs": [
    {
     "name": "stdout",
     "output_type": "stream",
     "text": [
      "Files already downloaded and verified\n"
     ]
    }
   ],
   "source": [
    "#- Data processing 2\n",
    "\n",
    "cif100 = torchvision.datasets.CIFAR100(root='./data', train=True, download=True)\n",
    "\n",
    "file='../../../../data/cifar_100_Bit_m-r101x1_embd.p'\n",
    "trainset = Dataset(file, train=True, classes=cif100.classes)\n",
    "testset = Dataset(file, train=False, classes=cif100.classes)"
   ]
  },
  {
   "cell_type": "code",
   "execution_count": 4,
   "metadata": {},
   "outputs": [],
   "source": [
    "coarse_to_fine_map = {\n",
    "'aquatic_mammals': ['beaver', 'dolphin', 'otter', 'seal', 'whale'],\n",
    "'fish': ['aquarium_fish', 'flatfish', 'ray', 'shark', 'trout'],\n",
    "'flowers': ['orchid', 'poppy', 'rose', 'sunflower', 'tulip'],\n",
    "'food_containers': ['bottle', 'bowl', 'can', 'cup', 'plate'],\n",
    "'fruit_and_vegetables': ['apple', 'mushroom', 'orange', 'pear', 'sweet_pepper'],\n",
    "'household_electrical_devices': ['clock', 'keyboard', 'lamp', 'telephone', 'television'],\n",
    "'household_furniture': ['bed', 'chair', 'couch', 'table', 'wardrobe'],\n",
    "'insects': ['bee', 'beetle', 'butterfly', 'caterpillar', 'cockroach'],\n",
    "'large_carnivores': ['bear', 'leopard', 'lion', 'tiger', 'wolf'],\n",
    "'large_man-made_outdoor_things': ['bridge', 'castle', 'house', 'road', 'skyscraper'],\n",
    "'large_natural_outdoor_scenes': ['cloud', 'forest', 'mountain', 'plain', 'sea'],\n",
    "'large_omnivores_and_herbivores': ['camel', 'cattle', 'chimpanzee', 'elephant', 'kangaroo'],\n",
    "'medium-sized_mammals': ['fox', 'porcupine', 'possum', 'raccoon', 'skunk'],\n",
    "'non-insect_invertebrates': ['crab', 'lobster', 'snail', 'spider', 'worm'],\n",
    "'people': ['baby', 'boy', 'girl', 'man', 'woman'],\n",
    "'reptiles': ['crocodile', 'dinosaur', 'lizard', 'snake', 'turtle'],\n",
    "'small mammals': ['hamster', 'mouse', 'rabbit', 'shrew', 'squirrel'],\n",
    "'trees': ['maple_tree', 'oak_tree', 'palm_tree', 'pine_tree', 'willow_tree'],\n",
    "'vehicles_1': ['bicycle', 'bus', 'motorcycle', 'pickup_truck', 'train'],\n",
    "'vehicles_2': ['lawn_mower', 'rocket', 'streetcar', 'tank', 'tractor']\n",
    "}\n",
    "\n",
    "coarse_number_to_coarse_name = {i: name for i, name in enumerate(coarse_to_fine_map)}\n",
    "\n",
    "def fine_to_coarse(coarse_to_fine):\n",
    "    fine_to_coarse_map = {}\n",
    "    for key in coarse_to_fine:\n",
    "        fines = coarse_to_fine[key]\n",
    "        for f in fines:\n",
    "            fine_to_coarse_map[f] = key\n",
    "            \n",
    "    return fine_to_coarse_map\n",
    "\n",
    "fine_to_coarse_map = fine_to_coarse(coarse_to_fine_map)\n",
    "\n",
    "fine_number_to_fine_name = {i: name for i, name in enumerate(trainset.classes)}\n",
    "fine_name_to_fine_number = {name: i for i, name in fine_number_to_fine_name.items()}\n",
    "\n",
    "for i in range(100):\n",
    "    fine_to_coarse_map[fine_number_to_fine_name[i]]\n",
    "    \n",
    "coarse_name_to_coarse_number = {name: i for i, name in enumerate(coarse_to_fine_map)}\n",
    "\n",
    "coarse_targets = np.array([coarse_name_to_coarse_number[fine_to_coarse_map[fine_number_to_fine_name[y]]] for y in trainset.targets])\n",
    "idx_by_coarse = np.array([np.where(coarse_targets == y)[0] for y in range(20)])\n",
    "idx_by_fine = np.array([np.where(trainset.targets == y)[0] for y in range(100)])\n",
    "\n",
    "\n",
    "test_coarse_targets = np.array([coarse_name_to_coarse_number[fine_to_coarse_map[fine_number_to_fine_name[y]]] for y in testset.targets])\n",
    "test_idx_by_coarse = np.array([np.where(test_coarse_targets == y)[0] for y in range(20)])\n",
    "\n",
    "\n",
    "coarse_names = np.array(list(coarse_name_to_coarse_number.keys()))\n",
    "\n",
    "fine_number_to_coarse_number = {fn: coarse_name_to_coarse_number[\n",
    "                                        fine_to_coarse_map[\n",
    "                                            fine_number_to_fine_name[fn]\n",
    "                                        ]\n",
    "                                    ] for fn in range(100)}\n",
    "\n",
    "\n",
    "fine_by_coarse = [np.where(np.array(list(fine_number_to_coarse_number.values())) == i)[0] for i in range(20)]\n",
    "all_fine = np.concatenate(fine_by_coarse)"
   ]
  },
  {
   "cell_type": "code",
   "execution_count": 5,
   "metadata": {},
   "outputs": [],
   "source": [
    "from sklearn.svm import LinearSVC\n",
    "\n",
    "def ssl_exp(X, y, n_samples_per_class=1, acorn=None):    \n",
    "    inds_sup = few_shot_sample(y, n_samples_per_class)\n",
    "    inds_unsup = np.array([i for i in range(len(y)) if i not in inds_sup]).astype(int)\n",
    "    X=X.copy()\n",
    "\n",
    "    y_ = -1 * np.ones(n)\n",
    "    y_[inds_sup] = y[inds_sup]\n",
    "    \n",
    "    #- 2 = Supervised, Semisupervised\n",
    "    accs = np.zeros(2)\n",
    "    times = np.zeros(2)\n",
    "        \n",
    "    \n",
    "    print(\"begin fit2\")\n",
    "    #- Semi-Supervised\n",
    "    svc_semisup = AgglomerativeEnsemble(n_estimators=1, p_inbag=1, \n",
    "                                        projector=None, projection_kwargs={'n_components': 64}, \n",
    "                                        affinity='euclidean', linkage='average', max_tree_distance=400)\n",
    "    time_ = time()\n",
    "    svc_semisup.fit(X, y_)\n",
    "    \n",
    "    accs[1] = (svc_semisup.predict(X[inds_unsup]) == y[inds_unsup]).mean()\n",
    "    times[1] = time() - time_\n",
    "    \n",
    "    print(\"finish fit+predict 2 in\", times[1], \"seconds\")\n",
    "    time_ = time()\n",
    "    \n",
    "    \n",
    "    print(\"begin fit1\")\n",
    "    #- Supervised\n",
    "    svc_sup = LinearSVC(C=1)\n",
    "    time_ = time()\n",
    "    svc_sup.fit(X[inds_sup], y[inds_sup])\n",
    "    accs[0] = (svc_sup.predict(X[inds_unsup]) == y[inds_unsup]).mean()\n",
    "    times[0] = time() - time_\n",
    "    print(\"finish fit+predict 1 in\", times[0], \"seconds\")\n",
    "        \n",
    "    return accs, times"
   ]
  },
  {
   "cell_type": "code",
   "execution_count": 7,
   "metadata": {},
   "outputs": [
    {
     "name": "stdout",
     "output_type": "stream",
     "text": [
      "1\n"
     ]
    }
   ],
   "source": [
    "np.random.seed(1)\n",
    "\n",
    "n_samples_per_class=[1]\n",
    "n_cores=40\n",
    "# n_mc=int(n_cores / len(prop_labeled))\n",
    "n_mc=1\n",
    "\n",
    "experiment_tuples = []\n",
    "\n",
    "for i, p in enumerate(n_samples_per_class):\n",
    "    for _ in range(n_mc):\n",
    "        all_inds = stratified_sample(trainset.targets, p=0.5, replace=False)\n",
    "        n=len(all_inds)\n",
    "        \n",
    "        experiment_tuples.append((trainset.data[all_inds], trainset.targets[all_inds], p))\n",
    "    \n",
    "\n",
    "condensed_func = lambda x: ssl_exp(*x)\n",
    "start_time = time()\n",
    "print(len(experiment_tuples))\n",
    "# try:\n",
    "#     accuracies_and_times = Parallel(n_jobs=n_cores)(delayed(condensed_func)(tupl) for tupl in experiment_tuples)\n",
    "#     print(\"finished in %1.1f\"%(time() - start_time))\n",
    "# except:\n",
    "#     print(\"error after %1.1f\"%(time() - start_time))\n",
    "#     assert 0 == 1"
   ]
  },
  {
   "cell_type": "code",
   "execution_count": 8,
   "metadata": {},
   "outputs": [],
   "source": [
    "X,y,n_samples_per_class = experiment_tuples[0]"
   ]
  },
  {
   "cell_type": "code",
   "execution_count": 9,
   "metadata": {},
   "outputs": [],
   "source": [
    "inds_sup = few_shot_sample(y, n_samples_per_class)\n",
    "inds_unsup = np.array([i for i in range(len(y)) if i not in inds_sup]).astype(int)\n",
    "\n",
    "y_ = -1 * np.ones(n)\n",
    "y_[inds_sup] = y[inds_sup]"
   ]
  },
  {
   "cell_type": "code",
   "execution_count": 10,
   "metadata": {},
   "outputs": [],
   "source": [
    "def benchmark_agg_class(X, y, inds_sup, kwargs):\n",
    "    inds_unsup = np.array([i for i in range(len(y)) if i not in inds_sup]).astype(int)\n",
    "\n",
    "    y_ = -1 * np.ones(n)\n",
    "    y_[inds_sup] = y[inds_sup]\n",
    "    \n",
    "    agg_class = AgglomerativeEnsemble(**kwargs)\n",
    "    fit_time_ = time()\n",
    "    agg_class.fit(X, y_)\n",
    "    fit_time = time() - fit_time_\n",
    "    \n",
    "    inf_time_ = time()\n",
    "    accuracy = (agg_class.predict(X[inds_unsup]) == y[inds_unsup]).mean()\n",
    "    inf_time = time() - inf_time_\n",
    "    \n",
    "    print(accuracy, fit_time, inf_time)\n",
    "    \n",
    "    return accuracy, fit_time, inf_time\n",
    "\n",
    "benchmark = lambda x: benchmark_agg_class(X, y, inds_sup, x)"
   ]
  },
  {
   "cell_type": "code",
   "execution_count": 29,
   "metadata": {},
   "outputs": [],
   "source": [
    "n_components_list = [1,4,16,64,256,1024]\n",
    "\n",
    "f_tuples = []\n",
    "for i, n_components in enumerate(n_components_list):\n",
    "    f_tuples.append({'n_estimators':1, 'p_inbag':1, \n",
    "          'projector':'gaussian', 'projection_kwargs':{'n_components': n_components}, \n",
    "          'affinity':'euclidean', 'linkage':'average', \n",
    "          'max_tree_distance':400, 'n_jobs':50})\n",
    "            \n",
    "acc_fit_inf = Parallel(n_jobs=90)(delayed(benchmark)(f) for f in f_tuples)"
   ]
  },
  {
   "cell_type": "code",
   "execution_count": 45,
   "metadata": {},
   "outputs": [],
   "source": [
    "accuracies = np.zeros(len(n_components_list))\n",
    "fit_times = np.zeros(len(n_components_list))\n",
    "inf_times = np.zeros(len(n_components_list))\n",
    "for i, triple in enumerate(acc_fit_inf):\n",
    "    accuracies[i] = triple[0]\n",
    "    fit_times[i] = triple[1]\n",
    "    inf_times[i] = triple[2]"
   ]
  },
  {
   "cell_type": "code",
   "execution_count": 55,
   "metadata": {},
   "outputs": [
    {
     "data": {
      "image/png": "[encoded data removed]",
      "text/plain": [
       "<Figure size 432x288 with 3 Axes>"
      ]
     },
     "metadata": {
      "needs_background": "light"
     },
     "output_type": "display_data"
    }
   ],
   "source": [
    "import matplotlib.pyplot as plt\n",
    "fig, ax = plt.subplots(1,3)\n",
    "\n",
    "for ax_ in ax:\n",
    "    ax_.set_xscale('log')\n",
    "\n",
    "ax[0].scatter(n_components_list, accuracies)\n",
    "ax[0].set_ylabel('accuracy')\n",
    "ax[0].set_xlabel('proj dimension')\n",
    "\n",
    "# fig, ax = plt.subplots(1,3)\n",
    "ax[1].scatter(n_components_list, fit_times)\n",
    "ax[1].set_ylabel('fit time (s)')\n",
    "ax[1].set_xlabel('proj dimension')\n",
    "\n",
    "# fig, ax = plt.subplots(1,3)\n",
    "ax[2].scatter(n_components_list, inf_times)\n",
    "ax[2].set_ylabel('inf time (s)')\n",
    "ax[2].set_xlabel('proj dimension')\n",
    "\n",
    "plt.tight_layout()"
   ]
  },
  {
   "cell_type": "code",
   "execution_count": 38,
   "metadata": {},
   "outputs": [],
   "source": [
    "n_neighbors_list = [1,2,4,8,16,32,64]\n",
    "\n",
    "f_tuples = []\n",
    "for i, n_neighbors in enumerate(n_neighbors_list):\n",
    "    f_tuples.append({'n_estimators':1, 'p_inbag':1, \n",
    "          'projector':'gaussian', 'projection_kwargs':{'n_components': 64}, \n",
    "          'affinity':'euclidean', 'linkage':'average', 'n_neighbors':n_neighbors,\n",
    "          'max_tree_distance':400, 'n_jobs':50})\n",
    "        \n",
    "acc_fit_inf2 = Parallel(n_jobs=90)(delayed(benchmark)(f) for f in f_tuples)"
   ]
  },
  {
   "cell_type": "code",
   "execution_count": 39,
   "metadata": {},
   "outputs": [],
   "source": [
    "accuracies2 = np.zeros(len(n_neighbors_list))\n",
    "for i, triple in enumerate(acc_fit_inf2):\n",
    "    accuracies2[i] = triple[0]"
   ]
  },
  {
   "cell_type": "code",
   "execution_count": 40,
   "metadata": {},
   "outputs": [
    {
     "data": {
      "text/plain": [
       "Text(0.5, 0, 'n neighbors')"
      ]
     },
     "execution_count": 40,
     "metadata": {},
     "output_type": "execute_result"
    },
    {
     "data": {
      "image/png": "[encoded data removed]",
      "text/plain": [
       "<Figure size 432x288 with 1 Axes>"
      ]
     },
     "metadata": {
      "needs_background": "light"
     },
     "output_type": "display_data"
    }
   ],
   "source": [
    "fig, ax = plt.subplots(1,1)\n",
    "ax.scatter(n_neighbors_list, accuracies2)\n",
    "ax.set_ylabel('accuracy')\n",
    "ax.set_xlabel('n neighbors')"
   ]
  },
  {
   "cell_type": "code",
   "execution_count": 37,
   "metadata": {},
   "outputs": [
    {
     "name": "stdout",
     "output_type": "stream",
     "text": [
      "0.24228915662650602 35.35033392906189 6.308876276016235\n",
      "0.3313253012048193 33.73533797264099 33.062217712402344\n",
      "0.3532128514056225 33.273711919784546 69.16486120223999\n",
      "0.3561847389558233 43.624093770980835 141.32757186889648\n",
      "0.3704819277108434 110.14137530326843 360.1992063522339\n",
      "0.38068273092369476 231.6118426322937 711.724152803421\n"
     ]
    }
   ],
   "source": [
    "n_estimators_list = [1,5,10,20,50,100]\n",
    "\n",
    "f_tuples = []\n",
    "for i, n_estimators in enumerate(n_estimators_list):\n",
    "    f_tuples.append({'n_estimators':n_estimators, 'p_inbag':1, \n",
    "          'projector':'gaussian', 'projection_kwargs':{'n_components': 64}, \n",
    "          'affinity':'euclidean', 'linkage':'average', 'n_neighbors':8,\n",
    "          'max_tree_distance':400, 'n_jobs':10})\n",
    "        \n",
    "acc_fit_inf3 = Parallel(n_jobs=1)(delayed(benchmark)(f) for f in f_tuples)"
   ]
  },
  {
   "cell_type": "code",
   "execution_count": 20,
   "metadata": {},
   "outputs": [
    {
     "ename": "IndexError",
     "evalue": "index 5 is out of bounds for axis 0 with size 5",
     "output_type": "error",
     "traceback": [
      "\u001b[0;31m---------------------------------------------------------------------------\u001b[0m",
      "\u001b[0;31mIndexError\u001b[0m                                Traceback (most recent call last)",
      "\u001b[0;32m<ipython-input-20-c0d27621a33f>\u001b[0m in \u001b[0;36m<module>\u001b[0;34m\u001b[0m\n\u001b[1;32m      1\u001b[0m \u001b[0maccuracies3\u001b[0m \u001b[0;34m=\u001b[0m \u001b[0mnp\u001b[0m\u001b[0;34m.\u001b[0m\u001b[0mzeros\u001b[0m\u001b[0;34m(\u001b[0m\u001b[0mlen\u001b[0m\u001b[0;34m(\u001b[0m\u001b[0mn_neighbors_list\u001b[0m\u001b[0;34m)\u001b[0m\u001b[0;34m)\u001b[0m\u001b[0;34m\u001b[0m\u001b[0;34m\u001b[0m\u001b[0m\n\u001b[1;32m      2\u001b[0m \u001b[0;32mfor\u001b[0m \u001b[0mi\u001b[0m\u001b[0;34m,\u001b[0m \u001b[0mtriple\u001b[0m \u001b[0;32min\u001b[0m \u001b[0menumerate\u001b[0m\u001b[0;34m(\u001b[0m\u001b[0macc_fit_inf3\u001b[0m\u001b[0;34m)\u001b[0m\u001b[0;34m:\u001b[0m\u001b[0;34m\u001b[0m\u001b[0;34m\u001b[0m\u001b[0m\n\u001b[0;32m----> 3\u001b[0;31m     \u001b[0maccuracies3\u001b[0m\u001b[0;34m[\u001b[0m\u001b[0mi\u001b[0m\u001b[0;34m]\u001b[0m \u001b[0;34m=\u001b[0m \u001b[0mtriple\u001b[0m\u001b[0;34m[\u001b[0m\u001b[0;36m0\u001b[0m\u001b[0;34m]\u001b[0m\u001b[0;34m\u001b[0m\u001b[0;34m\u001b[0m\u001b[0m\n\u001b[0m",
      "\u001b[0;31mIndexError\u001b[0m: index 5 is out of bounds for axis 0 with size 5"
     ]
    }
   ],
   "source": [
    "accuracies3 = np.zeros(len(n_neighbors_list))\n",
    "for i, triple in enumerate(acc_fit_inf3):\n",
    "    accuracies3[i] = triple[0]"
   ]
  },
  {
   "cell_type": "code",
   "execution_count": null,
   "metadata": {},
   "outputs": [],
   "source": [
    "fig, ax = plt.subplots(1,1)\n",
    "ax.scatter(n_estimators_list, accuracies3)\n",
    "ax.set_ylabel('accuracy')\n",
    "ax.set_xlabel('n estimators')"
   ]
  },
  {
   "cell_type": "code",
   "execution_count": 21,
   "metadata": {},
   "outputs": [
    {
     "data": {
      "text/plain": [
       "[{'n_estimators': 100,\n",
       "  'p_inbag': 1,\n",
       "  'projector': 'gaussian',\n",
       "  'projection_kwargs': {'n_components': 128},\n",
       "  'affinity': 'euclidean',\n",
       "  'linkage': 'average',\n",
       "  'n_neighbors': 4,\n",
       "  'max_tree_distance': 400,\n",
       "  'n_jobs': 10},\n",
       " {'n_estimators': 100,\n",
       "  'p_inbag': 1,\n",
       "  'projector': 'gaussian',\n",
       "  'projection_kwargs': {'n_components': 128},\n",
       "  'affinity': 'euclidean',\n",
       "  'linkage': 'average',\n",
       "  'n_neighbors': 4,\n",
       "  'max_tree_distance': 400,\n",
       "  'n_jobs': 10},\n",
       " {'n_estimators': 100,\n",
       "  'p_inbag': 1,\n",
       "  'projector': 'gaussian',\n",
       "  'projection_kwargs': {'n_components': 128},\n",
       "  'affinity': 'euclidean',\n",
       "  'linkage': 'average',\n",
       "  'n_neighbors': 4,\n",
       "  'max_tree_distance': 400,\n",
       "  'n_jobs': 10},\n",
       " {'n_estimators': 100,\n",
       "  'p_inbag': 1,\n",
       "  'projector': 'gaussian',\n",
       "  'projection_kwargs': {'n_components': 128},\n",
       "  'affinity': 'euclidean',\n",
       "  'linkage': 'average',\n",
       "  'n_neighbors': 4,\n",
       "  'max_tree_distance': 400,\n",
       "  'n_jobs': 10},\n",
       " {'n_estimators': 100,\n",
       "  'p_inbag': 1,\n",
       "  'projector': 'gaussian',\n",
       "  'projection_kwargs': {'n_components': 128},\n",
       "  'affinity': 'euclidean',\n",
       "  'linkage': 'average',\n",
       "  'n_neighbors': 4,\n",
       "  'max_tree_distance': 400,\n",
       "  'n_jobs': 10},\n",
       " {'n_estimators': 100,\n",
       "  'p_inbag': 1,\n",
       "  'projector': 'gaussian',\n",
       "  'projection_kwargs': {'n_components': 128},\n",
       "  'affinity': 'euclidean',\n",
       "  'linkage': 'average',\n",
       "  'n_neighbors': 4,\n",
       "  'max_tree_distance': 400,\n",
       "  'n_jobs': 10}]"
      ]
     },
     "execution_count": 21,
     "metadata": {},
     "output_type": "execute_result"
    }
   ],
   "source": [
    "f_tuples"
   ]
  }
 ],
 "metadata": {
  "kernelspec": {
   "display_name": "APU",
   "language": "python",
   "name": "apu"
  },
  "language_info": {
   "codemirror_mode": {
    "name": "ipython",
    "version": 3
   },
   "file_extension": ".py",
   "mimetype": "text/x-python",
   "name": "python",
   "nbconvert_exporter": "python",
   "pygments_lexer": "ipython3",
   "version": "3.6.9"
  }
 },
 "nbformat": 4,
 "nbformat_minor": 4
}

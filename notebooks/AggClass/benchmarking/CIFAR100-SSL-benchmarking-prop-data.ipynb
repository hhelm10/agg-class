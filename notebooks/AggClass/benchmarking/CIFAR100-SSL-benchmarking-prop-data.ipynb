{
 "cells": [
  {
   "cell_type": "code",
   "execution_count": 1,
   "metadata": {},
   "outputs": [],
   "source": [
    "import os\n",
    "import sys\n",
    "import json\n",
    "import argparse\n",
    "from time import time\n",
    "from functools import partial\n",
    "\n",
    "import numpy as np\n",
    "import pandas as pd\n",
    "\n",
    "from tqdm import tqdm\n",
    "\n",
    "from sklearn.preprocessing import normalize\n",
    "from sklearn.random_projection import GaussianRandomProjection\n",
    "from sklearn.mixture import GaussianMixture\n",
    "from sklearn.neighbors import NearestNeighbors\n",
    "\n",
    "from rsq.samplers import *\n",
    "from rsq.samplers import _Sampler\n",
    "from rsq.helpers import set_seeds\n",
    "\n",
    "from rsq import SVCEnsemble, AgglomerativeEnsemble\n",
    "from rsq.agglomerative_helpers import get_tree_distances, get_decision_paths\n",
    "\n",
    "from joblib import Parallel, delayed\n",
    "\n",
    "import torchvision\n",
    "\n",
    "import pickle\n",
    "\n",
    "def stratified_sample(y, p=0.67, replace=False):\n",
    "    unique_y, counts = np.unique(y, return_counts=True)\n",
    "    n_per_class = np.array([int(np.math.floor(p*c)) for c in counts])\n",
    "    n_per_class = np.array([max([npc, 1]) for npc in n_per_class])\n",
    "    \n",
    "    inds = [np.random.choice(np.where(y == unique_y[i])[0], size=npc, replace=replace) for i, npc in enumerate(n_per_class)]\n",
    "    \n",
    "    return np.concatenate(inds)\n",
    "\n",
    "def few_shot_sample(y, n_samples_per_class=1):\n",
    "    unique_y = np.unique(y)    \n",
    "    inds = [np.random.choice(np.where(y == c)[0], size=n_samples_per_class, replace=False) for c in unique_y]\n",
    "    \n",
    "    return np.concatenate(inds)"
   ]
  },
  {
   "cell_type": "code",
   "execution_count": 2,
   "metadata": {},
   "outputs": [],
   "source": [
    "#- Data processing 1\n",
    "\n",
    "class Dataset:\n",
    "    def __init__(self, file='cifar_100_Bit_m-r101x1_embd.p', train=True, classes=[]):\n",
    "        if train:\n",
    "            self.data = pickle.load(open(file, 'rb'))[0][0]\n",
    "            self.targets = np.concatenate(pickle.load(open(file, 'rb'))[0][1])\n",
    "        else:\n",
    "            self.data = pickle.load(open(file, 'rb'))[1][0]\n",
    "            self.targets = np.concatenate(pickle.load(open(file, 'rb'))[1][1])\n",
    "        \n",
    "        self.classes = classes"
   ]
  },
  {
   "cell_type": "code",
   "execution_count": 12,
   "metadata": {},
   "outputs": [
    {
     "name": "stdout",
     "output_type": "stream",
     "text": [
      "Files already downloaded and verified\n"
     ]
    }
   ],
   "source": [
    "#- Data processing 2\n",
    "cif100 = torchvision.datasets.CIFAR100(root='./data', train=True, download=True)\n",
    "\n",
    "file='/home/hhelm/data/cifar_100_Bit_m-r101x1_embd.p'\n",
    "\n",
    "\n",
    "trainset = Dataset(file, train=True, classes=cif100.classes)\n",
    "X = trainset.data\n",
    "y = trainset.targets\n",
    "\n",
    "testset = Dataset(file, train=False, classes=cif100.classes)\n",
    "X_test = testset.data\n",
    "y_test = testset.targets\n",
    "\n",
    "del trainset, testset, cif100"
   ]
  },
  {
   "cell_type": "code",
   "execution_count": 25,
   "metadata": {},
   "outputs": [],
   "source": [
    "def benchmark_agg_class(X, y, inds_sup, kwargs):\n",
    "    y_ = -1 * np.ones(len(y))\n",
    "    y_[inds_sup] = y[inds_sup]\n",
    "    \n",
    "    agg_class = AgglomerativeEnsemble(**kwargs)\n",
    "    fit_time_ = time()\n",
    "    agg_class.fit(X, y_)\n",
    "    fit_time = time() - fit_time_\n",
    "    \n",
    "    inf_time_ = time()\n",
    "    accuracy = (agg_class.predict(X_test) == y_test).mean()\n",
    "    inf_time = time() - inf_time_\n",
    "    \n",
    "    print(accuracy, fit_time, inf_time)\n",
    "    \n",
    "    return accuracy, fit_time, inf_time\n",
    "\n",
    "benchmark = lambda x: benchmark_agg_class(*x)"
   ]
  },
  {
   "cell_type": "code",
   "execution_count": 27,
   "metadata": {},
   "outputs": [
    {
     "name": "stdout",
     "output_type": "stream",
     "text": [
      "100\n",
      "100\n",
      "100\n",
      "100\n",
      "100\n",
      "100\n",
      "100\n",
      "100\n",
      "100\n",
      "100\n",
      "5000\n",
      "5000\n",
      "5000\n",
      "5000\n",
      "5000\n",
      "5000\n",
      "5000\n",
      "5000\n",
      "5000\n",
      "5000\n",
      "10000\n",
      "10000\n",
      "10000\n",
      "10000\n",
      "10000\n",
      "10000\n",
      "10000\n",
      "10000\n",
      "10000\n",
      "10000\n",
      "25000\n",
      "25000\n",
      "25000\n",
      "25000\n",
      "25000\n",
      "25000\n",
      "25000\n",
      "25000\n",
      "25000\n",
      "25000\n",
      "finished in 169.0\n"
     ]
    }
   ],
   "source": [
    "np.random.seed(1)\n",
    "\n",
    "p_data = [0, 0.1, 0.2, 0.5, 1]\n",
    "kwargs = {'n_estimators':1, 'p_inbag':1, \n",
    "          'projector':'gaussian', 'projection_kwargs':{'n_components': 256}, \n",
    "          'affinity':'euclidean', 'linkage':'average', \n",
    "          'max_tree_distance':400, 'n_jobs':50}\n",
    "\n",
    "n_cores=50\n",
    "# n_mc=int(n_cores / len(prop_labeled))\n",
    "n_mc=10\n",
    "\n",
    "experiment_tuples = []\n",
    "\n",
    "for i, p in enumerate(p_data):\n",
    "    for _ in range(n_mc):\n",
    "        if p == 1:\n",
    "            experiment_tuples.append((X, y, inds_sup, kwargs))\n",
    "            break\n",
    "        else:\n",
    "        \n",
    "            all_inds = stratified_sample(y, p=p, replace=False)\n",
    "            inds_sup = few_shot_sample(y[all_inds])\n",
    "\n",
    "            print(len(all_inds))\n",
    "\n",
    "            experiment_tuples.append((X[all_inds], y[all_inds], inds_sup, kwargs))\n",
    "    \n",
    "\n",
    "start_time = time()\n",
    "try:\n",
    "    results_p_unlabeled = Parallel(n_jobs=n_cores)(delayed(benchmark)(tupl) for tupl in experiment_tuples)\n",
    "    print(\"finished in %1.1f\"%(time() - start_time))\n",
    "except:\n",
    "    print(\"error after %1.1f\"%(time() - start_time))\n",
    "    assert 0 == 1"
   ]
  },
  {
   "cell_type": "code",
   "execution_count": 29,
   "metadata": {},
   "outputs": [],
   "source": [
    "accuracies = np.zeros((len(p_data), n_mc))\n",
    "fit_times = np.zeros((len(p_data), n_mc))\n",
    "inf_times = np.zeros((len(p_data), n_mc))\n",
    "\n",
    "for i, triple in enumerate(results_p_unlabeled):\n",
    "    for j in range(n_mc):\n",
    "        if p_data[int(np.math.floor(i/n_mc))] == 1:\n",
    "            accuracies[int(np.math.floor(i/n_mc)), j] = results_p_unlabeled[-1][0]\n",
    "            fit_times[int(np.math.floor(i/n_mc)), j] = results_p_unlabeled[-1][1]\n",
    "            inf_times[int(np.math.floor(i/n_mc)), j] = results_p_unlabeled[-1][2]\n",
    "            \n",
    "        else:\n",
    "            accuracies[int(np.math.floor(i/n_mc)), j] = triple[0]\n",
    "            fit_times[int(np.math.floor(i/n_mc)), j] = triple[1]\n",
    "            inf_times[int(np.math.floor(i/n_mc)), j] = triple[2]"
   ]
  },
  {
   "cell_type": "code",
   "execution_count": 32,
   "metadata": {},
   "outputs": [
    {
     "data": {
      "image/png": "[encoded data removed]",
      "text/plain": [
       "<Figure size 1080x360 with 3 Axes>"
      ]
     },
     "metadata": {
      "needs_background": "light"
     },
     "output_type": "display_data"
    }
   ],
   "source": [
    "import matplotlib.pyplot as plt\n",
    "fig, ax = plt.subplots(1,3, figsize=(15,5))\n",
    "\n",
    "for ax_ in ax:\n",
    "    ax_.set_xscale('linear')\n",
    "\n",
    "ax[0].scatter(p_data, np.mean(accuracies, axis=-1))\n",
    "ax[0].set_ylabel('accuracy')\n",
    "ax[0].set_xlabel('proportion of data available')\n",
    "\n",
    "# fig, ax = plt.subplots(1,3)\n",
    "ax[1].scatter(p_data, np.mean(fit_times, axis=-1))\n",
    "ax[1].set_ylabel('fit time (s)')\n",
    "ax[1].set_xlabel('proportion of data available')\n",
    "\n",
    "# fig, ax = plt.subplots(1,3)\n",
    "ax[2].scatter(p_data, np.mean(inf_times, axis=-1))\n",
    "ax[2].set_ylabel('inf time (s)')\n",
    "ax[2].set_xlabel('proportion of data available')\n",
    "\n",
    "plt.tight_layout()"
   ]
  },
  {
   "cell_type": "code",
   "execution_count": null,
   "metadata": {},
   "outputs": [],
   "source": []
  },
  {
   "cell_type": "code",
   "execution_count": null,
   "metadata": {},
   "outputs": [],
   "source": []
  },
  {
   "cell_type": "code",
   "execution_count": null,
   "metadata": {},
   "outputs": [],
   "source": []
  },
  {
   "cell_type": "code",
   "execution_count": 29,
   "metadata": {},
   "outputs": [],
   "source": [
    "n_components_list = [1,4,16,64,256,1024]\n",
    "\n",
    "f_tuples = []\n",
    "for i, n_components in enumerate(n_components_list):\n",
    "    f_tuples.append({'n_estimators':1, 'p_inbag':1, \n",
    "          'projector':'gaussian', 'projection_kwargs':{'n_components': n_components}, \n",
    "          'affinity':'euclidean', 'linkage':'average', \n",
    "          'max_tree_distance':400, 'n_jobs':50})\n",
    "            \n",
    "acc_fit_inf = Parallel(n_jobs=90)(delayed(benchmark)(f) for f in f_tuples)"
   ]
  },
  {
   "cell_type": "code",
   "execution_count": 45,
   "metadata": {},
   "outputs": [],
   "source": [
    "accuracies = np.zeros(len(n_components_list))\n",
    "fit_times = np.zeros(len(n_components_list))\n",
    "inf_times = np.zeros(len(n_components_list))\n",
    "for i, triple in enumerate(acc_fit_inf):\n",
    "    accuracies[i] = triple[0]\n",
    "    fit_times[i] = triple[1]\n",
    "    inf_times[i] = triple[2]"
   ]
  },
  {
   "cell_type": "code",
   "execution_count": 55,
   "metadata": {},
   "outputs": [
    {
     "data": {
      "image/png": "[encoded data removed]",
      "text/plain": [
       "<Figure size 432x288 with 3 Axes>"
      ]
     },
     "metadata": {
      "needs_background": "light"
     },
     "output_type": "display_data"
    }
   ],
   "source": [
    "import matplotlib.pyplot as plt\n",
    "fig, ax = plt.subplots(1,3)\n",
    "\n",
    "for ax_ in ax:\n",
    "    ax_.set_xscale('log')\n",
    "\n",
    "ax[0].scatter(n_components_list, accuracies)\n",
    "ax[0].set_ylabel('accuracy')\n",
    "ax[0].set_xlabel('proj dimension')\n",
    "\n",
    "# fig, ax = plt.subplots(1,3)\n",
    "ax[1].scatter(n_components_list, fit_times)\n",
    "ax[1].set_ylabel('fit time (s)')\n",
    "ax[1].set_xlabel('proj dimension')\n",
    "\n",
    "# fig, ax = plt.subplots(1,3)\n",
    "ax[2].scatter(n_components_list, inf_times)\n",
    "ax[2].set_ylabel('inf time (s)')\n",
    "ax[2].set_xlabel('proj dimension')\n",
    "\n",
    "plt.tight_layout()"
   ]
  },
  {
   "cell_type": "code",
   "execution_count": 38,
   "metadata": {},
   "outputs": [],
   "source": [
    "n_neighbors_list = [1,2,4,8,16,32,64]\n",
    "\n",
    "f_tuples = []\n",
    "for i, n_neighbors in enumerate(n_neighbors_list):\n",
    "    f_tuples.append({'n_estimators':1, 'p_inbag':1, \n",
    "          'projector':'gaussian', 'projection_kwargs':{'n_components': 64}, \n",
    "          'affinity':'euclidean', 'linkage':'average', 'n_neighbors':n_neighbors,\n",
    "          'max_tree_distance':400, 'n_jobs':50})\n",
    "        \n",
    "acc_fit_inf2 = Parallel(n_jobs=90)(delayed(benchmark)(f) for f in f_tuples)"
   ]
  },
  {
   "cell_type": "code",
   "execution_count": 39,
   "metadata": {},
   "outputs": [],
   "source": [
    "accuracies2 = np.zeros(len(n_neighbors_list))\n",
    "for i, triple in enumerate(acc_fit_inf2):\n",
    "    accuracies2[i] = triple[0]"
   ]
  },
  {
   "cell_type": "code",
   "execution_count": 40,
   "metadata": {},
   "outputs": [
    {
     "data": {
      "text/plain": [
       "Text(0.5, 0, 'n neighbors')"
      ]
     },
     "execution_count": 40,
     "metadata": {},
     "output_type": "execute_result"
    },
    {
     "data": {
      "image/png": "[encoded data removed]",
      "text/plain": [
       "<Figure size 432x288 with 1 Axes>"
      ]
     },
     "metadata": {
      "needs_background": "light"
     },
     "output_type": "display_data"
    }
   ],
   "source": [
    "fig, ax = plt.subplots(1,1)\n",
    "ax.scatter(n_neighbors_list, accuracies2)\n",
    "ax.set_ylabel('accuracy')\n",
    "ax.set_xlabel('n neighbors')"
   ]
  },
  {
   "cell_type": "code",
   "execution_count": 37,
   "metadata": {},
   "outputs": [
    {
     "name": "stdout",
     "output_type": "stream",
     "text": [
      "0.24228915662650602 35.35033392906189 6.308876276016235\n",
      "0.3313253012048193 33.73533797264099 33.062217712402344\n",
      "0.3532128514056225 33.273711919784546 69.16486120223999\n",
      "0.3561847389558233 43.624093770980835 141.32757186889648\n",
      "0.3704819277108434 110.14137530326843 360.1992063522339\n",
      "0.38068273092369476 231.6118426322937 711.724152803421\n"
     ]
    }
   ],
   "source": [
    "n_estimators_list = [1,5,10,20,50,100]\n",
    "\n",
    "f_tuples = []\n",
    "for i, n_estimators in enumerate(n_estimators_list):\n",
    "    f_tuples.append({'n_estimators':n_estimators, 'p_inbag':1, \n",
    "          'projector':'gaussian', 'projection_kwargs':{'n_components': 64}, \n",
    "          'affinity':'euclidean', 'linkage':'average', 'n_neighbors':8,\n",
    "          'max_tree_distance':400, 'n_jobs':10})\n",
    "        \n",
    "acc_fit_inf3 = Parallel(n_jobs=1)(delayed(benchmark)(f) for f in f_tuples)"
   ]
  },
  {
   "cell_type": "code",
   "execution_count": 20,
   "metadata": {},
   "outputs": [
    {
     "ename": "IndexError",
     "evalue": "index 5 is out of bounds for axis 0 with size 5",
     "output_type": "error",
     "traceback": [
      "\u001b[0;31m---------------------------------------------------------------------------\u001b[0m",
      "\u001b[0;31mIndexError\u001b[0m                                Traceback (most recent call last)",
      "\u001b[0;32m<ipython-input-20-c0d27621a33f>\u001b[0m in \u001b[0;36m<module>\u001b[0;34m\u001b[0m\n\u001b[1;32m      1\u001b[0m \u001b[0maccuracies3\u001b[0m \u001b[0;34m=\u001b[0m \u001b[0mnp\u001b[0m\u001b[0;34m.\u001b[0m\u001b[0mzeros\u001b[0m\u001b[0;34m(\u001b[0m\u001b[0mlen\u001b[0m\u001b[0;34m(\u001b[0m\u001b[0mn_neighbors_list\u001b[0m\u001b[0;34m)\u001b[0m\u001b[0;34m)\u001b[0m\u001b[0;34m\u001b[0m\u001b[0;34m\u001b[0m\u001b[0m\n\u001b[1;32m      2\u001b[0m \u001b[0;32mfor\u001b[0m \u001b[0mi\u001b[0m\u001b[0;34m,\u001b[0m \u001b[0mtriple\u001b[0m \u001b[0;32min\u001b[0m \u001b[0menumerate\u001b[0m\u001b[0;34m(\u001b[0m\u001b[0macc_fit_inf3\u001b[0m\u001b[0;34m)\u001b[0m\u001b[0;34m:\u001b[0m\u001b[0;34m\u001b[0m\u001b[0;34m\u001b[0m\u001b[0m\n\u001b[0;32m----> 3\u001b[0;31m     \u001b[0maccuracies3\u001b[0m\u001b[0;34m[\u001b[0m\u001b[0mi\u001b[0m\u001b[0;34m]\u001b[0m \u001b[0;34m=\u001b[0m \u001b[0mtriple\u001b[0m\u001b[0;34m[\u001b[0m\u001b[0;36m0\u001b[0m\u001b[0;34m]\u001b[0m\u001b[0;34m\u001b[0m\u001b[0;34m\u001b[0m\u001b[0m\n\u001b[0m",
      "\u001b[0;31mIndexError\u001b[0m: index 5 is out of bounds for axis 0 with size 5"
     ]
    }
   ],
   "source": [
    "accuracies3 = np.zeros(len(n_neighbors_list))\n",
    "for i, triple in enumerate(acc_fit_inf3):\n",
    "    accuracies3[i] = triple[0]"
   ]
  },
  {
   "cell_type": "code",
   "execution_count": null,
   "metadata": {},
   "outputs": [],
   "source": [
    "fig, ax = plt.subplots(1,1)\n",
    "ax.scatter(n_estimators_list, accuracies3)\n",
    "ax.set_ylabel('accuracy')\n",
    "ax.set_xlabel('n estimators')"
   ]
  }
 ],
 "metadata": {
  "kernelspec": {
   "display_name": "APU",
   "language": "python",
   "name": "apu"
  },
  "language_info": {
   "codemirror_mode": {
    "name": "ipython",
    "version": 3
   },
   "file_extension": ".py",
   "mimetype": "text/x-python",
   "name": "python",
   "nbconvert_exporter": "python",
   "pygments_lexer": "ipython3",
   "version": "3.6.9"
  }
 },
 "nbformat": 4,
 "nbformat_minor": 4
}

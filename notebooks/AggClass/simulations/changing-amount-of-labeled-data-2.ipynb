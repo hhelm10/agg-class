{
 "cells": [
  {
   "cell_type": "code",
   "execution_count": 3,
   "metadata": {},
   "outputs": [],
   "source": [
    "import numpy as np\n",
    "from tqdm import tqdm\n",
    "from joblib import Parallel, delayed\n",
    "\n",
    "from rsq import AgglomerativeEnsemble\n",
    "from rsq.helpers import stratified_sample, few_shot_sample\n",
    "\n",
    "import matplotlib.pyplot as plt\n",
    "import seaborn as sns"
   ]
  },
  {
   "cell_type": "code",
   "execution_count": 4,
   "metadata": {},
   "outputs": [],
   "source": [
    "from sklearn.svm import SVC\n",
    "from sklearn.tree import DecisionTreeClassifier\n",
    "from sklearn.datasets import make_moons\n",
    "from sklearn.neighbors import KNeighborsClassifier\n",
    "from sklearn.semi_supervised import LabelPropagation\n",
    "from sklearn.semi_supervised import LabelSpreading\n",
    "\n",
    "def exp(n_unlabeled=100, n_labeled_per_class=1, noise=0.1, acorn=None):\n",
    "    if acorn is not None:\n",
    "        np.random.seed(acorn)\n",
    "        \n",
    "    accuracies = np.zeros(2)\n",
    "    \n",
    "    n_labeled=2*n_labeled_per_class\n",
    "    \n",
    "    X, y = make_moons(10000, noise=noise)\n",
    "    perm = np.random.choice(10000, 10000, replace=False)\n",
    "\n",
    "    X_labeled_1 = X[perm][np.where(y[perm] == 0)[0][:n_labeled_per_class]]\n",
    "    X_labeled_2 = X[perm][np.where(y[perm] == 1)[0][:n_labeled_per_class]]\n",
    "    X_labeled = np.concatenate((X_labeled_1, X_labeled_2), axis=0)\n",
    "    \n",
    "    del X, y\n",
    "    \n",
    "    y_labeled = np.concatenate((np.zeros(n_labeled_per_class), np.ones(n_labeled_per_class)))\n",
    "    \n",
    "    X, y = make_moons(10000, noise=noise)\n",
    "    X_unlabeled = X[:n_unlabeled]\n",
    "    y_unlabeled = y[:n_unlabeled]\n",
    "        \n",
    "    X_test, y_test = make_moons(1000, noise=noise)\n",
    "    \n",
    "#     clf=SVC()\n",
    "#     clf.fit(X_labeled, y_labeled)\n",
    "#     y_hat=clf.predict(X_test)\n",
    "#     accuracies[1] = (y_test == y_hat).mean()\n",
    "    \n",
    "    \n",
    "#     clf=DecisionTreeClassifier()\n",
    "#     clf.fit(X_labeled, y_labeled)\n",
    "#     y_hat=clf.predict(X_test)\n",
    "#     accuracies[2] = (y_test == y_hat).mean()\n",
    "    \n",
    "    \n",
    "    clf=KNeighborsClassifier(n_neighbors=1, metric='euclidean')\n",
    "    clf.fit(X_labeled, y_labeled)\n",
    "    y_hat=clf.predict(X_test)\n",
    "    accuracies[1] = (y_test == y_hat).mean()\n",
    "\n",
    "    \n",
    "    y_ = -1 * np.ones(n_labeled + n_unlabeled)\n",
    "    y_[:n_labeled] = y_labeled.copy()\n",
    "\n",
    "    n_neighbors = max([1, int(np.math.floor(np.log(len(y_))))])\n",
    "    clf=AgglomerativeEnsemble(n_estimators=1, p_inbag=1, affinity='euclidean', linkage='single', n_neighbors=1, gem_p=128)\n",
    "    clf.fit(np.concatenate((X_labeled, X_unlabeled), axis=0), y_)\n",
    "    y_hat=clf.predict(X_test)\n",
    "    accuracies[0] = (y_test == y_hat).mean()\n",
    "    \n",
    "#     clf=LabelPropagation(n_neighbors=1)\n",
    "#     clf.fit(np.concatenate((X_labeled, X_unlabeled), axis=0), y_)\n",
    "#     y_hat=clf.predict(X_test)\n",
    "#     accuracies[4] = (y_test == y_hat).mean()\n",
    "    \n",
    "#     clf=LabelSpreading(n_neighbors=1)\n",
    "#     clf.fit(np.concatenate((X_labeled, X_unlabeled), axis=0), y_)\n",
    "#     y_hat=clf.predict(X_test)\n",
    "#     accuracies[5] = (y_test == y_hat).mean()\n",
    "    \n",
    "        \n",
    "    print(accuracies)\n",
    "\n",
    "    return accuracies"
   ]
  },
  {
   "cell_type": "code",
   "execution_count": 23,
   "metadata": {},
   "outputs": [],
   "source": [
    "n_labeled=1\n",
    "n_labeled_list = np.array([1, 2, 4, 8, 16, 32])\n",
    "condensed_func = lambda x: exp(100, x, 0.1)\n",
    "\n",
    "n_mc=180\n",
    "n_cores=90\n",
    "\n",
    "algos = ['HADR', '1-NN']\n",
    "\n",
    "func_tuples = []\n",
    "for n_labeled_ in n_labeled_list:\n",
    "    for i in range(n_mc):\n",
    "        func_tuples.append(n_labeled_)\n",
    "        \n",
    "accuracies_list = Parallel(n_jobs=90)(delayed(condensed_func)(x) for x in func_tuples)"
   ]
  },
  {
   "cell_type": "code",
   "execution_count": 24,
   "metadata": {},
   "outputs": [],
   "source": [
    "accuracies=np.zeros((len(algos), len(n_labeled_list), n_mc))\n",
    "\n",
    "for i in range(len(n_labeled_list)):\n",
    "    for j in range(n_mc):\n",
    "        accuracies[0, i, j] = accuracies_list[int(i*n_mc + j)][0]\n",
    "        accuracies[1, i, j] = accuracies_list[int(i*n_mc + j)][1]\n",
    "#         accuracies[2, i, j] = accuracies_list[int(i*n_mc + j)][2]\n",
    "#         accuracies[3, i, j] = accuracies_list[int(i*n_mc + j)][3]\n",
    "#         accuracies[4, i, j] = accuracies_list[int(i*n_mc + j)][4]\n",
    "#         accuracies[5, i, j] = accuracies_list[int(i*n_mc + j)][5]"
   ]
  },
  {
   "cell_type": "code",
   "execution_count": 42,
   "metadata": {},
   "outputs": [
    {
     "data": {
      "image/png": "[encoded data removed]",
      "text/plain": [
       "<Figure size 576x432 with 1 Axes>"
      ]
     },
     "metadata": {
      "needs_background": "light"
     },
     "output_type": "display_data"
    }
   ],
   "source": [
    "fig, ax = plt.subplots(1,1, figsize=(8,6))\n",
    "\n",
    "colors= sns.color_palette('Set1', n_colors=len(algos))\n",
    "\n",
    "# ax.set_xscale('log')\n",
    "for i, algo in enumerate(algos):\n",
    "    if i >= 5:\n",
    "        ci = i+1\n",
    "    else:\n",
    "        ci = i\n",
    "    ax.scatter(n_labeled_list, np.mean(accuracies, axis=-1)[i], color=colors[ci], label=algo, s=15)\n",
    "    ax.errorbar(n_labeled_list, np.mean(accuracies, axis=-1)[i], color=colors[ci], lw=3, yerr=np.std(accuracies, axis=-1)[i] / np.sqrt(n_mc))\n",
    "\n",
    "#     for j, n_labeled in enumerate(n_labeled_list):\n",
    "#         if j > 0:\n",
    "#             continue\n",
    "#         ax.scatter([n_labeled + (i-1)/2.5]*n_mc, accuracies[i, j], color=colors[i], s=1, alpha=1)\n",
    "    \n",
    "    \n",
    "ax.legend(fontsize=18)\n",
    "ax.set_xlabel('# labeled samples per class', fontsize=18)\n",
    "ax.set_ylabel('Accuracy', fontsize=18)\n",
    "ax.set_title('Accuracy vs # labeled samples per class', fontsize=18)\n",
    "\n",
    "\n",
    "    \n",
    "ax.set_yticks([0.7,0.8,0.9,1])\n",
    "ax.tick_params(labelsize=16)\n",
    "ax.set_xticks(n_labeled_list)\n",
    "\n",
    "plt.tight_layout()\n",
    "plt.savefig('figures/moons_n_samples_per_class.pdf')"
   ]
  },
  {
   "cell_type": "code",
   "execution_count": null,
   "metadata": {},
   "outputs": [],
   "source": [
    "accuracies"
   ]
  },
  {
   "cell_type": "code",
   "execution_count": null,
   "metadata": {},
   "outputs": [],
   "source": []
  }
 ],
 "metadata": {
  "kernelspec": {
   "display_name": "APU",
   "language": "python",
   "name": "apu"
  },
  "language_info": {
   "codemirror_mode": {
    "name": "ipython",
    "version": 3
   },
   "file_extension": ".py",
   "mimetype": "text/x-python",
   "name": "python",
   "nbconvert_exporter": "python",
   "pygments_lexer": "ipython3",
   "version": "3.6.9"
  }
 },
 "nbformat": 4,
 "nbformat_minor": 5
}

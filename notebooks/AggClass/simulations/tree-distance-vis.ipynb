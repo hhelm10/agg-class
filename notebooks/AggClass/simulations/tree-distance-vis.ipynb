{
 "cells": [
  {
   "cell_type": "code",
   "execution_count": 22,
   "metadata": {},
   "outputs": [],
   "source": [
    "import numpy as np\n",
    "import matplotlib.pyplot as plt\n",
    "import seaborn\n",
    "\n",
    "from scipy.cluster.hierarchy import dendrogram, linkage\n",
    "\n",
    "from sklearn.cluster import AgglomerativeClustering\n",
    "\n",
    "from sklearn.datasets import make_blobs"
   ]
  },
  {
   "cell_type": "code",
   "execution_count": 159,
   "metadata": {},
   "outputs": [
    {
     "data": {
      "image/png": "[encoded data removed]",
      "text/plain": [
       "<Figure size 360x360 with 1 Axes>"
      ]
     },
     "metadata": {},
     "output_type": "display_data"
    }
   ],
   "source": [
    "np.random.seed(2)\n",
    "\n",
    "X, y= make_blobs(10, 2)\n",
    "\n",
    "fig, ax = plt.subplots(1,1, figsize=(5,5), tight_layout=True)\n",
    "ax.scatter(X[:,0], X[:,1], alpha=0)\n",
    "\n",
    "for i in range(10):\n",
    "    plt.text(X[i, 0], X[i, 1], s=str(i), c='k', fontsize=25)\n",
    "\n",
    "\n",
    "ax.set_yticks([])\n",
    "ax.set_xticks([])\n",
    "ax.spines['top'].set_visible(False)\n",
    "ax.spines['right'].set_visible(False)\n",
    "ax.spines['bottom'].set_visible(False)\n",
    "ax.spines['left'].set_visible(False)\n",
    "\n",
    "Z = linkage(X, 'single')\n",
    "\n",
    "# levels = {i: 1 for i in range(10)}\n",
    "# for i, row in enumerate(Z):\n",
    "#     node=i + 10\n",
    "#     keys = list(levels.keys())\n",
    "    \n",
    "#     node1=row[0]\n",
    "#     node2=row[1]\n",
    "    \n",
    "#     print(row)\n",
    "    \n",
    "#     if node1 in keys and node2 in keys:\n",
    "#         levels[node] = max([levels[node1], levels[node2]]) + 1\n",
    "#     elif node1 in keys:\n",
    "#         levels[node] = levels[node1] + 1\n",
    "#     elif node2 in keys:\n",
    "#         levels[node] = levels[node2] + 1\n",
    "        \n",
    "#     Z[i, 2] = 0.5 * levels[node]\n",
    "    \n",
    "# dendrogram(Z, ax=ax[1],color_threshold=0, above_threshold_color='k', no_labels=False, )\n",
    "# ax[1].spines['top'].set_visible(False)\n",
    "# ax[1].spines['right'].set_visible(False)\n",
    "# ax[1].spines['bottom'].set_visible(False)\n",
    "# ax[1].spines['left'].set_visible(False)\n",
    "\n",
    "# ax[1].set_yticks([])\n",
    "# ax[1].tick_params(labelsize=18)\n",
    "# plt.tight_layout()\n",
    "\n",
    "plt.tight_layout()\n",
    "plt.savefig('figures/random_numbers_to_clusters.pdf')"
   ]
  },
  {
   "cell_type": "code",
   "execution_count": 160,
   "metadata": {},
   "outputs": [
    {
     "name": "stdout",
     "output_type": "stream",
     "text": [
      "[1.         5.         0.47859973 2.        ]\n",
      "[3.         8.         0.54515076 2.        ]\n",
      "[ 7.         11.          0.95963086  3.        ]\n",
      "[ 9.         10.          1.11916418  3.        ]\n",
      "[0.         6.         1.37497731 2.        ]\n",
      "[ 2.         14.          1.42212368  3.        ]\n",
      "[ 4.        12.         2.8721511  4.       ]\n",
      "[15.         16.          3.19960824  7.        ]\n",
      "[13.         17.          3.44804628 10.        ]\n"
     ]
    },
    {
     "data": {
      "image/png": "[encoded data removed]",
      "text/plain": [
       "<Figure size 360x360 with 1 Axes>"
      ]
     },
     "metadata": {
      "needs_background": "light"
     },
     "output_type": "display_data"
    }
   ],
   "source": [
    "fig, ax = plt.subplots(1,1, figsize=(5,5))\n",
    "\n",
    "levels = {i: 1 for i in range(10)}\n",
    "for i, row in enumerate(Z):\n",
    "    node=i + 10\n",
    "    keys = list(levels.keys())\n",
    "    \n",
    "    node1=row[0]\n",
    "    node2=row[1]\n",
    "    \n",
    "    print(row)\n",
    "    \n",
    "    if node1 in keys and node2 in keys:\n",
    "        levels[node] = max([levels[node1], levels[node2]]) + 1\n",
    "    elif node1 in keys:\n",
    "        levels[node] = levels[node1] + 1\n",
    "    elif node2 in keys:\n",
    "        levels[node] = levels[node2] + 1\n",
    "        \n",
    "    Z[i, 2] = 0.5 * levels[node]\n",
    "    \n",
    "dendrogram(Z, ax=ax,color_threshold=0, above_threshold_color='k', no_labels=False)\n",
    "ax.spines['top'].set_visible(False)\n",
    "ax.spines['right'].set_visible(False)\n",
    "ax.spines['bottom'].set_visible(False)\n",
    "ax.spines['left'].set_visible(False)\n",
    "\n",
    "ax.set_yticks([])\n",
    "ax.tick_params(labelsize=18)\n",
    "plt.tight_layout()\n",
    "\n",
    "plt.text(16.5, 0.75, s=str(10), fontsize=18)\n",
    "plt.text(46, 0.75, s=str(11), fontsize=18)\n",
    "plt.text(86.5, 0.75, s=str(12), fontsize=18)\n",
    "\n",
    "plt.text(9.5, 1.3, s=str(13), fontsize=18)\n",
    "plt.text(39, 1.3, s=str(14), fontsize=18)\n",
    "plt.text(79.5, 1.3, s=str(15), fontsize=18)\n",
    "\n",
    "plt.text(55.25, 2.3, s=str(17), fontsize=18)\n",
    "\n",
    "plt.text(71, 1.8, s=str(16), fontsize=18)\n",
    "\n",
    "plt.text(31, 2.8, s=str(18), fontsize=18)\n",
    "\n",
    "\n",
    "plt.savefig('figures/dendrogram.pdf')"
   ]
  },
  {
   "cell_type": "code",
   "execution_count": 158,
   "metadata": {},
   "outputs": [
    {
     "data": {
      "text/plain": [
       "[]"
      ]
     },
     "execution_count": 158,
     "metadata": {},
     "output_type": "execute_result"
    },
    {
     "data": {
      "image/png": "[encoded data removed]",
      "text/plain": [
       "<Figure size 432x288 with 1 Axes>"
      ]
     },
     "metadata": {},
     "output_type": "display_data"
    }
   ],
   "source": [
    "fig, ax = plt.subplots(1,1)\n",
    "\n",
    "ax.spines['top'].set_visible(False)\n",
    "ax.spines['right'].set_visible(False)\n",
    "ax.spines['bottom'].set_visible(False)\n",
    "ax.spines['left'].set_visible(False)\n",
    "\n",
    "ax.set_yticks([])\n",
    "ax.set_xticks([])"
   ]
  },
  {
   "cell_type": "code",
   "execution_count": 83,
   "metadata": {},
   "outputs": [
    {
     "name": "stdout",
     "output_type": "stream",
     "text": [
      "[1.         5.         0.47859973 2.        ]\n",
      "[3.         8.         0.54515076 2.        ]\n",
      "[ 7.         11.          0.95963086  3.        ]\n",
      "[ 9.         10.          1.11916418  3.        ]\n",
      "[0.         6.         1.37497731 2.        ]\n",
      "[ 2.         14.          1.42212368  3.        ]\n",
      "[ 4.        12.         2.8721511  4.       ]\n",
      "[15.         16.          3.19960824  7.        ]\n",
      "[13.         17.          3.44804628 10.        ]\n"
     ]
    }
   ],
   "source": []
  },
  {
   "cell_type": "code",
   "execution_count": 84,
   "metadata": {},
   "outputs": [
    {
     "data": {
      "image/png": "[encoded data removed]",
      "text/plain": [
       "<Figure size 576x432 with 1 Axes>"
      ]
     },
     "metadata": {
      "needs_background": "light"
     },
     "output_type": "display_data"
    }
   ],
   "source": []
  },
  {
   "cell_type": "code",
   "execution_count": null,
   "metadata": {},
   "outputs": [],
   "source": []
  }
 ],
 "metadata": {
  "kernelspec": {
   "display_name": "APU",
   "language": "python",
   "name": "apu"
  },
  "language_info": {
   "codemirror_mode": {
    "name": "ipython",
    "version": 3
   },
   "file_extension": ".py",
   "mimetype": "text/x-python",
   "name": "python",
   "nbconvert_exporter": "python",
   "pygments_lexer": "ipython3",
   "version": "3.6.9"
  }
 },
 "nbformat": 4,
 "nbformat_minor": 2
}

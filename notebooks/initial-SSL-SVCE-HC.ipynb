{
 "cells": [
  {
   "cell_type": "code",
   "execution_count": 1,
   "metadata": {},
   "outputs": [],
   "source": [
    "import os\n",
    "import sys\n",
    "import json\n",
    "import argparse\n",
    "from time import time\n",
    "from functools import partial\n",
    "\n",
    "import numpy as np\n",
    "import pandas as pd\n",
    "\n",
    "from tqdm import tqdm\n",
    "\n",
    "from sklearn.preprocessing import normalize\n",
    "from sklearn.random_projection import GaussianRandomProjection\n",
    "from sklearn.mixture import GaussianMixture\n",
    "from sklearn.neighbors import NearestNeighbors\n",
    "\n",
    "from rsq.samplers import *\n",
    "from rsq.samplers import _Sampler\n",
    "from rsq.helpers import set_seeds\n",
    "\n",
    "from rsq import SVCEnsemble, AgglomerativeEnsemble, AgglomerativeClassifier\n",
    "from rsq.agglomerative_helpers import get_tree_distances, get_decision_paths\n",
    "\n",
    "from joblib import Parallel, delayed\n",
    "\n",
    "def stratified_sample(y, p=0.67, replace=False):\n",
    "    unique_y, counts = np.unique(y, return_counts=True)\n",
    "    n_per_class = np.array([int(np.math.floor(p*c)) for c in counts])\n",
    "    n_per_class = np.array([max([npc, 1]) for npc in n_per_class])\n",
    "    \n",
    "    inds = [np.random.choice(np.where(y == unique_y[i])[0], size=npc, replace=replace) for i, npc in enumerate(n_per_class)]\n",
    "    \n",
    "    return np.concatenate(inds)"
   ]
  },
  {
   "cell_type": "code",
   "execution_count": 27,
   "metadata": {},
   "outputs": [],
   "source": [
    "import numpy as np\n",
    "\n",
    "from sklearn.cluster import AgglomerativeClustering \n",
    "from sklearn.neighbors import NearestNeighbors\n",
    "from sklearn.random_projection import GaussianRandomProjection\n",
    "from scipy.special import softmax\n",
    "\n",
    "from joblib import delayed, Parallel\n",
    "from numba import jit\n",
    "\n",
    "from rsq.agglomerative_helpers import get_tree_distances, get_decision_paths\n",
    "\n",
    "import itertools\n",
    "\n",
    "def stratified_sample(y, p=0.67, replace=False):\n",
    "    unique_y, counts = np.unique(y, return_counts=True)\n",
    "    n_per_class = np.array([int(np.math.floor(p*c)) for c in counts])\n",
    "    n_per_class = np.array([max([npc, 1]) for npc in n_per_class])\n",
    "    \n",
    "    inds = [np.random.choice(np.where(y == unique_y[i])[0], size=npc, replace=replace) for i, npc in enumerate(n_per_class)]\n",
    "    \n",
    "    return np.concatenate(inds)\n",
    "\n",
    "\n",
    "def gem(x, p=1):\n",
    "    \"\"\" generalized mean pooling -- interpolation between mean and max \"\"\"\n",
    "    nobs, ndim = x.shape\n",
    "    \n",
    "    y = np.zeros(ndim)\n",
    "    for r in range(nobs):\n",
    "        for c in range(ndim):\n",
    "            y[c] += x[r,c] ** p\n",
    "    \n",
    "    y /= nobs\n",
    "    \n",
    "    for c in range(ndim):\n",
    "        y[c] = y[c] ** (1 / p)\n",
    "    \n",
    "    return y\n",
    "\n",
    "\n",
    "\n",
    "class AgglomerativeClassifier:\n",
    "    def __init__(self, n_clusters=2, affinity='cosine', linkage='average',\n",
    "                n_neighbors=1,\n",
    "                 max_tree_distance=None,\n",
    "                 soft_max_multiplier=10,\n",
    "                 gem_p=1,\n",
    "                classes=None):\n",
    "        \n",
    "        self.n_clusters = n_clusters\n",
    "        self.affinity = affinity\n",
    "        self.linkage = linkage\n",
    "        \n",
    "        self.n_neighbors = n_neighbors\n",
    "                \n",
    "        self.classes_ = classes\n",
    "        \n",
    "        self.max_tree_distance=max_tree_distance\n",
    "        self.soft_max_multiplier=soft_max_multiplier\n",
    "        \n",
    "        self.gem_p = gem_p\n",
    "        \n",
    "        \n",
    "    def fit(self, X, y):\n",
    "        self.n, d = X.shape\n",
    "\n",
    "        self.labeled_inds = np.where(y != -1)[0]\n",
    "                \n",
    "        if self.classes_ is None:\n",
    "            self.classes_ = np.unique(y[self.labeled_inds])\n",
    "            \n",
    "        if -1 in self.classes_:\n",
    "            self.classes_ = self.classes_[1:]\n",
    "                        \n",
    "        self.model = AgglomerativeClustering(n_clusters=self.n_clusters, \n",
    "            affinity=self.affinity, \n",
    "            linkage=self.linkage, \n",
    "            compute_full_tree=True\n",
    "            )\n",
    "        print(\"agg\")\n",
    "        self.model.fit(X)\n",
    "                    \n",
    "        self.nn = NearestNeighbors(n_neighbors=self.n_neighbors, metric=self.affinity)\n",
    "        print(\"nn\")\n",
    "        self.nn.fit(X)\n",
    "        \n",
    "        labeled_inds_by_class = [np.where(y[self.labeled_inds] == c)[0] for c in self.classes_]\n",
    "        decision_paths, counts = get_decision_paths(self.n, self.model.children_)\n",
    "        \n",
    "        self._get_tree_distances(decision_paths, counts)        \n",
    "        self._get_similarities_to_classes(labeled_inds_by_class)\n",
    "        \n",
    "                                    \n",
    "    def _get_tree_distances(self, decision_paths, counts):\n",
    "        self.tree_distances = get_tree_distances(self.n, decision_paths, self.labeled_inds, counts, self.max_tree_distance)\n",
    "        self.tree_distances = np.log(self.tree_distances) + 1\n",
    "        self.tree_distances = 1 / self.tree_distances\n",
    "        self.tree_distances = softmax(self.soft_max_multiplier * self.tree_distances, axis=0)\n",
    "        \n",
    "        \n",
    "    def _get_similarities_to_classes(self, labeled_inds_by_class):\n",
    "        self.similarities_to_classes = np.zeros((self.n, len(self.classes_)))\n",
    "        \n",
    "        for i, ibc in enumerate(labeled_inds_by_class):\n",
    "            self.similarities_to_classes[:, i] = gem(self.tree_distances[:, ibc].T, p=self.gem_p)\n",
    "                                              \n",
    "        self.similarities_to_classes = softmax(self.similarities_to_classes, axis=1)\n",
    "        \n",
    "        \n",
    "    def predict_proba(self, X):\n",
    "        _, neighbor_inds = self.nn.kneighbors(X)\n",
    "        scores = np.mean(self.similarities_to_classes[neighbor_inds], axis=1)\n",
    "        return softmax(scores, axis=1)\n",
    "    \n",
    "    \n",
    "    def predict(self, X):\n",
    "        return self.classes_[np.argmax(self.predict_proba(X), axis=1)]\n"
   ]
  },
  {
   "cell_type": "code",
   "execution_count": 30,
   "metadata": {},
   "outputs": [
    {
     "name": "stdout",
     "output_type": "stream",
     "text": [
      "agg\n",
      "nn\n"
     ]
    }
   ],
   "source": [
    "from sklearn.datasets import make_moons\n",
    "from sklearn.cluster import AgglomerativeClustering\n",
    "\n",
    "n=10\n",
    "X, y = make_moons(n, noise=0.1)\n",
    "\n",
    "n_labeled=1\n",
    "inds = np.random.choice(len(y), n_labeled, replace=False).astype(np.int32)\n",
    "\n",
    "y_ = -1 * np.ones(n)\n",
    "y_[inds] = y[inds]\n",
    "\n",
    "clu=AgglomerativeClassifier(affinity='euclidean', linkage='single')\n",
    "clu.fit(X, y_)\n",
    "\n",
    "decision_paths, counts = get_decision_paths(n, clu.model.children_)\n",
    "ha=get_tree_distances(n, decision_paths, inds, counts, max_tree_distance=2)"
   ]
  },
  {
   "cell_type": "code",
   "execution_count": null,
   "metadata": {},
   "outputs": [],
   "source": []
  },
  {
   "cell_type": "code",
   "execution_count": null,
   "metadata": {},
   "outputs": [],
   "source": []
  },
  {
   "cell_type": "code",
   "execution_count": 31,
   "metadata": {},
   "outputs": [],
   "source": [
    "def few_shot_sample(y, n_samples_per_class=1):\n",
    "    unique_y = np.unique(y)    \n",
    "    inds = [np.random.choice(np.where(y == c)[0], size=n_samples_per_class, replace=False) for c in unique_y]\n",
    "    \n",
    "    return np.concatenate(inds)"
   ]
  },
  {
   "cell_type": "code",
   "execution_count": 32,
   "metadata": {},
   "outputs": [],
   "source": [
    "# --\n",
    "# Helpers\n",
    "\n",
    "def subset(X, y, n):\n",
    "    if isinstance(X, list):\n",
    "        sel = np.random.choice(X[0].shape[0], n, replace=False)\n",
    "        return [x[sel] for x in X], y[sel]\n",
    "    \n",
    "    sel = np.random.choice(X.shape[0], n, replace=False)\n",
    "    \n",
    "    return X[sel], y[sel]\n",
    "\n",
    "def shuffle(X, y):\n",
    "    \"\"\" shuffle X and y \"\"\"\n",
    "    \n",
    "    if isinstance(X, list):\n",
    "        sel = np.random.permutation(X[0].shape[0])\n",
    "        return [x[sel] for x in X], y[sel]\n",
    "    \n",
    "    sel = np.random.permutation(X.shape[0])\n",
    "    return X[sel], y[sel]\n",
    "\n",
    "def adjust_prevalance(X, y, n_pos):\n",
    "    \"\"\" adjust the prevalance of the positive class \"\"\"\n",
    "    \n",
    "    pos_idx = np.where(y == 1)[0]\n",
    "    neg_idx = np.where(y == 0)[0]\n",
    "    sel = np.hstack([\n",
    "        np.random.choice(pos_idx, n_pos, replace=False),\n",
    "        neg_idx,\n",
    "    ])\n",
    "    \n",
    "    if isinstance(X, list):\n",
    "        return [x[sel] for x in X], y[sel]\n",
    "    \n",
    "    sel = np.random.permutation(sel)\n",
    "    return X[sel], y[sel]\n",
    "\n",
    "\n",
    "def process_data(X, y, n_pos_labels, n_all):\n",
    "    X, y  = shuffle(X, y)\n",
    "\n",
    "    X = [normalize(x, axis=1, norm='l2') for x in X]\n",
    "\n",
    "    X, y = subset(X, y, n=n_all)\n",
    "\n",
    "    target = np.random.choice(np.unique(y)) # !! Uniform sample class, not according to prevalance\n",
    "    y      = (y == target).astype(np.int)\n",
    "\n",
    "    X, y = adjust_prevalance(X, y, n_pos_labels)\n",
    "    \n",
    "    return X, y\n",
    "        \n",
    "def experiment(process_args, experiment_args):\n",
    "    X, y = process_data(*process_args)\n",
    "        \n",
    "    return run_exp(X, y, *experiment_args)"
   ]
  },
  {
   "cell_type": "code",
   "execution_count": 33,
   "metadata": {},
   "outputs": [
    {
     "name": "stdout",
     "output_type": "stream",
     "text": [
      "(32682, 2048) 32682 500 29 68.0 83\n"
     ]
    }
   ],
   "source": [
    "# --\n",
    "# Experiment parameters & initial data loading\n",
    "\n",
    "np.random.seed(1)\n",
    "\n",
    "\n",
    "data_files = ['../output/feats/crow_resnet50/birdsnap/']\n",
    "models = [s.split('/')[-3] for s in data_files]\n",
    "\n",
    "\n",
    "X = [np.load(os.path.join(f, 'X.npy')).astype(np.float64) for f in data_files][0]\n",
    "X = X.copy() / np.sqrt((X.copy() ** 2).sum(axis=-1, keepdims=True))\n",
    "y_str = np.load(os.path.join(data_files[0], 'y.npy'))\n",
    "classes_str, class_counts= np.unique(y_str, return_counts=True)\n",
    "y=np.zeros(len(y_str))\n",
    "for i, str_ in enumerate(classes_str):\n",
    "    y[np.where(y_str == str_)[0]] = i\n",
    "\n",
    "y = y.astype(int)\n",
    "classes=np.unique(y)\n",
    "\n",
    "print(X.shape, len(y), len(classes), np.min(class_counts), np.median(class_counts), np.max(class_counts))"
   ]
  },
  {
   "cell_type": "code",
   "execution_count": 54,
   "metadata": {},
   "outputs": [],
   "source": [
    "from sklearn.svm import LinearSVC\n",
    "\n",
    "def ssl_exp(X, y, n_samples_per_class=1, acorn=None):    \n",
    "    inds_sup = few_shot_sample(y, n_samples_per_class)\n",
    "    inds_unsup = np.array([i for i in range(len(y)) if i not in inds_sup]).astype(int)\n",
    "    X=X.copy()\n",
    "\n",
    "    y_ = -1 * np.ones(n)\n",
    "    y_[inds_sup] = y[inds_sup]\n",
    "    \n",
    "    #- 2 = Supervised, Semisupervised\n",
    "    accs = np.zeros(2)\n",
    "    times = np.zeros(2)\n",
    "        \n",
    "    \n",
    "    print(\"begin fit2\")\n",
    "    #- Semi-Supervised\n",
    "    svc_semisup = AgglomerativeClassifier(linkage='average', max_tree_distance=400)\n",
    "    time_ = time()\n",
    "    svc_semisup.fit(X, y_)\n",
    "    \n",
    "    accs[1] = (svc_semisup.predict(X[inds_unsup]) == y[inds_unsup]).mean()\n",
    "    times[1] = time() - time_\n",
    "    \n",
    "    print(\"finish fit+predict 2 in\", times[1], \"seconds\")\n",
    "    time_ = time()\n",
    "    \n",
    "    \n",
    "    print(\"begin fit1\")\n",
    "    #- Supervised\n",
    "    svc_sup = LinearSVC(C=1)\n",
    "    time_ = time()\n",
    "    svc_sup.fit(X[inds_sup], y[inds_sup])\n",
    "    accs[0] = (svc_sup.predict(X[inds_unsup]) == y[inds_unsup]).mean()\n",
    "    times[0] = time() - time_\n",
    "    print(\"finish fit+predict 1 in\", times[0], \"seconds\")\n",
    "        \n",
    "    return accs, times"
   ]
  },
  {
   "cell_type": "code",
   "execution_count": 72,
   "metadata": {},
   "outputs": [
    {
     "name": "stdout",
     "output_type": "stream",
     "text": [
      "10\n"
     ]
    }
   ],
   "source": [
    "np.random.seed(1)\n",
    "\n",
    "n_samples_per_class=[1]\n",
    "n_cores=40\n",
    "# n_mc=int(n_cores / len(prop_labeled))\n",
    "n_mc=10\n",
    "\n",
    "experiment_tuples = []\n",
    "\n",
    "for i, p in enumerate(n_samples_per_class):\n",
    "    for _ in range(n_mc):\n",
    "        all_inds = stratified_sample(y, p=0.5, replace=False)\n",
    "        n=len(all_inds)\n",
    "        \n",
    "        experiment_tuples.append((X[all_inds], y[all_inds], p))\n",
    "    \n",
    "\n",
    "condensed_func = lambda x: ssl_exp(*x)\n",
    "start_time = time()\n",
    "print(len(experiment_tuples))\n",
    "# try:\n",
    "#     accuracies_and_times = Parallel(n_jobs=n_cores)(delayed(condensed_func)(tupl) for tupl in experiment_tuples)\n",
    "#     print(\"finished in %1.1f\"%(time() - start_time))\n",
    "# except:\n",
    "#     print(\"error after %1.1f\"%(time() - start_time))\n",
    "#     assert 0 == 1"
   ]
  },
  {
   "cell_type": "code",
   "execution_count": 61,
   "metadata": {},
   "outputs": [],
   "source": [
    "accuracies = np.zeros((len(n_samples_per_class), 2, n_mc))\n",
    "times = np.zeros((len(n_samples_per_class), 2, n_mc))\n",
    "\n",
    "for i in range(len(n_samples_per_class)):\n",
    "    for j in range(n_mc):\n",
    "        temp = accuracies_and_times[i*len(n_samples_per_class) + j]\n",
    "        accuracies[i,:, j] = temp[0]\n",
    "        times[i,:, j] = temp[1]"
   ]
  },
  {
   "cell_type": "code",
   "execution_count": 62,
   "metadata": {},
   "outputs": [
    {
     "data": {
      "text/plain": [
       "<matplotlib.legend.Legend at 0x7f8248de7ef0>"
      ]
     },
     "execution_count": 62,
     "metadata": {},
     "output_type": "execute_result"
    },
    {
     "data": {
      "image/png": "[encoded data removed]",
      "text/plain": [
       "<Figure size 432x288 with 1 Axes>"
      ]
     },
     "metadata": {
      "needs_background": "light"
     },
     "output_type": "display_data"
    }
   ],
   "source": [
    "import matplotlib.pyplot as plt\n",
    "fig, ax = plt.subplots(1,1)\n",
    "\n",
    "algos = ['svc', 'agg-class']\n",
    "for i, algo in enumerate(algos):\n",
    "    ax.scatter(n_samples_per_class, np.mean(accuracies, axis=-1)[:, i], label=algo)\n",
    "    \n",
    "ax.set_ylabel(\"accuracy\")\n",
    "ax.set_xlabel(\"n samples per class\")\n",
    "ax.legend()"
   ]
  },
  {
   "cell_type": "code",
   "execution_count": 73,
   "metadata": {},
   "outputs": [],
   "source": [
    "X_, y_, n_ = experiment_tuples[0]"
   ]
  },
  {
   "cell_type": "code",
   "execution_count": 24,
   "metadata": {},
   "outputs": [
    {
     "data": {
      "text/plain": [
       "(16218, 2048)"
      ]
     },
     "execution_count": 24,
     "metadata": {},
     "output_type": "execute_result"
    }
   ],
   "source": [
    "X_.shape"
   ]
  },
  {
   "cell_type": "code",
   "execution_count": 25,
   "metadata": {},
   "outputs": [
    {
     "name": "stdout",
     "output_type": "stream",
     "text": [
      "CPU times: user 23.1 ms, sys: 0 ns, total: 23.1 ms\n",
      "Wall time: 22.2 ms\n"
     ]
    },
    {
     "data": {
      "text/plain": [
       "NearestNeighbors(metric='cosine')"
      ]
     },
     "execution_count": 25,
     "metadata": {},
     "output_type": "execute_result"
    }
   ],
   "source": [
    "%%time\n",
    "nn = NearestNeighbors(metric='cosine')\n",
    "nn.fit(X_)"
   ]
  },
  {
   "cell_type": "code",
   "execution_count": 26,
   "metadata": {},
   "outputs": [
    {
     "name": "stdout",
     "output_type": "stream",
     "text": [
      "CPU times: user 3min 32s, sys: 106 ms, total: 3min 32s\n",
      "Wall time: 3min 32s\n"
     ]
    },
    {
     "data": {
      "text/plain": [
       "AgglomerativeClustering(affinity='cosine', linkage='single')"
      ]
     },
     "execution_count": 26,
     "metadata": {},
     "output_type": "execute_result"
    }
   ],
   "source": [
    "%%time\n",
    "clu=AgglomerativeClustering(affinity='cosine', linkage='single')\n",
    "clu.fit(X_)"
   ]
  },
  {
   "cell_type": "code",
   "execution_count": 27,
   "metadata": {},
   "outputs": [
    {
     "name": "stdout",
     "output_type": "stream",
     "text": [
      "CPU times: user 1.5 s, sys: 252 ms, total: 1.75 s\n",
      "Wall time: 1.75 s\n"
     ]
    }
   ],
   "source": [
    "%%time\n",
    "decision_paths, counts = get_decision_paths(X_.shape[0], clu.children_)"
   ]
  },
  {
   "cell_type": "code",
   "execution_count": 28,
   "metadata": {},
   "outputs": [
    {
     "data": {
      "text/plain": [
       "(array([1205., 1236., 1231., 1257., 1421., 1333., 1422., 1664., 2323.,\n",
       "        3126.]),\n",
       " array([2.00000e+00, 1.12260e+03, 2.24320e+03, 3.36380e+03, 4.48440e+03,\n",
       "        5.60500e+03, 6.72560e+03, 7.84620e+03, 8.96680e+03, 1.00874e+04,\n",
       "        1.12080e+04]),\n",
       " <BarContainer object of 10 artists>)"
      ]
     },
     "execution_count": 28,
     "metadata": {},
     "output_type": "execute_result"
    },
    {
     "data": {
      "image/png": "[encoded data removed]",
      "text/plain": [
       "<Figure size 432x288 with 1 Axes>"
      ]
     },
     "metadata": {
      "needs_background": "light"
     },
     "output_type": "display_data"
    }
   ],
   "source": [
    "import matplotlib.pyplot as plt\n",
    "plt.hist(counts)"
   ]
  },
  {
   "cell_type": "code",
   "execution_count": 29,
   "metadata": {},
   "outputs": [
    {
     "name": "stdout",
     "output_type": "stream",
     "text": [
      "CPU times: user 3min 28s, sys: 18.3 ms, total: 3min 28s\n",
      "Wall time: 3min 28s\n"
     ]
    }
   ],
   "source": [
    "%%time\n",
    "tree_distances = get_tree_distances(X_.shape[0], decision_paths, np.arange(500), counts, max_tree_distance=200)"
   ]
  },
  {
   "cell_type": "code",
   "execution_count": null,
   "metadata": {},
   "outputs": [],
   "source": [
    "%%time\n",
    "inds = few_shot_sample(y_)\n",
    "y__ = -1 * np.ones(len(y_))\n",
    "y__[inds] = y_[inds]\n",
    "clf = AgglomerativeClassifier(linkage='single', max_tree_distance=200)\n",
    "clf.fit(X_, y__)"
   ]
  },
  {
   "cell_type": "code",
   "execution_count": 14,
   "metadata": {},
   "outputs": [
    {
     "ename": "NameError",
     "evalue": "name 'X_' is not defined",
     "output_type": "error",
     "traceback": [
      "\u001b[0;31m---------------------------------------------------------------------------\u001b[0m",
      "\u001b[0;31mNameError\u001b[0m                                 Traceback (most recent call last)",
      "\u001b[0;32m<timed exec>\u001b[0m in \u001b[0;36m<module>\u001b[0;34m\u001b[0m\n",
      "\u001b[0;31mNameError\u001b[0m: name 'X_' is not defined"
     ]
    }
   ],
   "source": [
    "%%time\n",
    "inds = few_shot_sample(y_)\n",
    "y__ = -1 * np.ones(len(y_))\n",
    "y__[inds] = y_[inds]\n",
    "clf = AgglomerativeClassifier(linkage='single', max_tree_distance=400)\n",
    "clf.fit(X_, y__)"
   ]
  },
  {
   "cell_type": "code",
   "execution_count": 21,
   "metadata": {},
   "outputs": [
    {
     "data": {
      "text/plain": [
       "(6338, 2048)"
      ]
     },
     "execution_count": 21,
     "metadata": {},
     "output_type": "execute_result"
    }
   ],
   "source": [
    "X_.shape"
   ]
  },
  {
   "cell_type": "code",
   "execution_count": null,
   "metadata": {},
   "outputs": [],
   "source": []
  },
  {
   "cell_type": "code",
   "execution_count": null,
   "metadata": {},
   "outputs": [],
   "source": []
  },
  {
   "cell_type": "code",
   "execution_count": 10,
   "metadata": {},
   "outputs": [],
   "source": [
    "np.random.seed(1)\n",
    "inds = stratified_sample(y, p=0.2)\n",
    "labeled_inds = stratified_sample(y[inds], p=0.1)\n",
    "y_ = -1 * np.ones(len(inds))\n",
    "y_[labeled_inds] = y[inds[labeled_inds]]"
   ]
  },
  {
   "cell_type": "code",
   "execution_count": 90,
   "metadata": {},
   "outputs": [
    {
     "ename": "IndexError",
     "evalue": "index 2 is out of bounds for axis 0 with size 1",
     "output_type": "error",
     "traceback": [
      "\u001b[0;31m---------------------------------------------------------------------------\u001b[0m",
      "\u001b[0;31mIndexError\u001b[0m                                Traceback (most recent call last)",
      "\u001b[0;32m<ipython-input-90-fadb62438dfc>\u001b[0m in \u001b[0;36m<module>\u001b[0;34m\u001b[0m\n\u001b[1;32m      1\u001b[0m \u001b[0mlinear_svc\u001b[0m \u001b[0;34m=\u001b[0m \u001b[0mLinearSVC\u001b[0m\u001b[0;34m(\u001b[0m\u001b[0mC\u001b[0m\u001b[0;34m=\u001b[0m\u001b[0;36m1\u001b[0m\u001b[0;34m)\u001b[0m\u001b[0;34m\u001b[0m\u001b[0;34m\u001b[0m\u001b[0m\n\u001b[1;32m      2\u001b[0m \u001b[0mtime_\u001b[0m \u001b[0;34m=\u001b[0m \u001b[0mtime\u001b[0m\u001b[0;34m(\u001b[0m\u001b[0;34m)\u001b[0m\u001b[0;34m\u001b[0m\u001b[0;34m\u001b[0m\u001b[0m\n\u001b[0;32m----> 3\u001b[0;31m \u001b[0mlinear_svc\u001b[0m\u001b[0;34m.\u001b[0m\u001b[0mfit\u001b[0m\u001b[0;34m(\u001b[0m\u001b[0mX\u001b[0m\u001b[0;34m[\u001b[0m\u001b[0minds\u001b[0m\u001b[0;34m[\u001b[0m\u001b[0mlabeled_inds\u001b[0m\u001b[0;34m]\u001b[0m\u001b[0;34m]\u001b[0m\u001b[0;34m,\u001b[0m \u001b[0my_\u001b[0m\u001b[0;34m[\u001b[0m\u001b[0mlabeled_inds\u001b[0m\u001b[0;34m]\u001b[0m\u001b[0;34m)\u001b[0m\u001b[0;34m\u001b[0m\u001b[0;34m\u001b[0m\u001b[0m\n\u001b[0m\u001b[1;32m      4\u001b[0m \u001b[0;34m\u001b[0m\u001b[0m\n\u001b[1;32m      5\u001b[0m \u001b[0mprint\u001b[0m\u001b[0;34m(\u001b[0m\u001b[0;34m\"time to train linear SVC:\"\u001b[0m\u001b[0;34m,\u001b[0m \u001b[0mtime\u001b[0m\u001b[0;34m(\u001b[0m\u001b[0;34m)\u001b[0m \u001b[0;34m-\u001b[0m \u001b[0mtime_\u001b[0m\u001b[0;34m,\u001b[0m \u001b[0;34m(\u001b[0m\u001b[0mlinear_svc\u001b[0m\u001b[0;34m.\u001b[0m\u001b[0mpredict\u001b[0m\u001b[0;34m(\u001b[0m\u001b[0mX\u001b[0m\u001b[0;34m[\u001b[0m\u001b[0minds\u001b[0m\u001b[0;34m]\u001b[0m\u001b[0;34m)\u001b[0m \u001b[0;34m==\u001b[0m \u001b[0my\u001b[0m\u001b[0;34m[\u001b[0m\u001b[0minds\u001b[0m\u001b[0;34m]\u001b[0m\u001b[0;34m)\u001b[0m\u001b[0;34m.\u001b[0m\u001b[0mmean\u001b[0m\u001b[0;34m(\u001b[0m\u001b[0;34m)\u001b[0m\u001b[0;34m)\u001b[0m\u001b[0;34m\u001b[0m\u001b[0;34m\u001b[0m\u001b[0m\n",
      "\u001b[0;31mIndexError\u001b[0m: index 2 is out of bounds for axis 0 with size 1"
     ]
    }
   ],
   "source": [
    "linear_svc = LinearSVC(C=1)\n",
    "time_ = time()\n",
    "linear_svc.fit(X[inds[labeled_inds]], y_[labeled_inds])\n",
    "\n",
    "print(\"time to train linear SVC:\", time() - time_, (linear_svc.predict(X[inds]) == y[inds]).mean())"
   ]
  },
  {
   "cell_type": "code",
   "execution_count": 29,
   "metadata": {},
   "outputs": [
    {
     "name": "stdout",
     "output_type": "stream",
     "text": [
      "time to train linear SVC: 2.8693134784698486 0.20605869359419376\n"
     ]
    }
   ],
   "source": [
    "agg = AgglomerativeEnsemble(n_estimators=1, p_inbag=1, \n",
    "                            projector=None, projection_kwargs={'n_components': 64}, n_neighbors=1, n_jobs=1)\n",
    "time_ = time()\n",
    "agg.fit(X[inds[labeled_inds]], y_[labeled_inds])\n",
    "\n",
    "print(\"time to train linear SVC:\", time() - time_, (agg.predict(X[inds]) == y[inds]).mean())"
   ]
  },
  {
   "cell_type": "code",
   "execution_count": 38,
   "metadata": {},
   "outputs": [
    {
     "name": "stdout",
     "output_type": "stream",
     "text": [
      "time to train linear SVC: 0.025906801223754883 1.0\n"
     ]
    }
   ],
   "source": [
    "from sklearn.neighbors import KNeighborsClassifier\n",
    "\n",
    "nn = KNeighborsClassifier(n_neighbors=1, metric='cosine')\n",
    "\n",
    "time_=time()\n",
    "nn.fit(X[inds], y[inds])\n",
    "print(\"time to train linear SVC:\", time() - time_, (nn.predict(X[inds]) == y[inds]).mean())"
   ]
  },
  {
   "cell_type": "code",
   "execution_count": 66,
   "metadata": {},
   "outputs": [],
   "source": [
    "labeled_inds = few_shot_sample(y_)"
   ]
  },
  {
   "cell_type": "code",
   "execution_count": 76,
   "metadata": {},
   "outputs": [
    {
     "name": "stdout",
     "output_type": "stream",
     "text": [
      "time to train linear SVC: 27.189078092575073 0.12782093969663336\n"
     ]
    }
   ],
   "source": [
    "agg= AgglomerativeEnsemble(n_estimators=100, p_inbag=1, projector='gaussian', \n",
    "                           projection_kwargs={'n_components': 256}, n_neighbors=1, \n",
    "                           n_jobs=90)\n",
    "\n",
    "time_ = time()\n",
    "agg.fit(X_[labeled_inds], y_[labeled_inds])\n",
    "\n",
    "print(\"time to train linear SVC:\", time() - time_, (agg.predict(X_) == y_).mean())"
   ]
  },
  {
   "cell_type": "code",
   "execution_count": 77,
   "metadata": {},
   "outputs": [
    {
     "name": "stdout",
     "output_type": "stream",
     "text": [
      "time to train linear SVC: 21.436809301376343 0.12782093969663336\n"
     ]
    }
   ],
   "source": [
    "agg= AgglomerativeEnsemble(n_estimators=100, p_inbag=1, projector='gaussian', \n",
    "                           projection_kwargs={'n_components': 256}, n_neighbors=1, \n",
    "                           n_jobs=10)\n",
    "\n",
    "time_ = time()\n",
    "agg.fit(X_[labeled_inds], y_[labeled_inds])\n",
    "\n",
    "print(\"time to train linear SVC:\", time() - time_, (agg.predict(X_) == y_).mean())"
   ]
  },
  {
   "cell_type": "code",
   "execution_count": 96,
   "metadata": {},
   "outputs": [
    {
     "name": "stdout",
     "output_type": "stream",
     "text": [
      "time to train linear SVC: 27.90682029724121 0.12782093969663336\n"
     ]
    }
   ],
   "source": [
    "agg_sup= AgglomerativeEnsemble(n_estimators=90, p_inbag=1, projector='gaussian', \n",
    "                           projection_kwargs={'n_components': 16}, n_neighbors=1, \n",
    "                           n_jobs=90)\n",
    "\n",
    "time_ = time()\n",
    "agg_sup.fit(X_[labeled_inds], y_[labeled_inds])\n",
    "\n",
    "print(\"time to train linear SVC:\", time() - time_, (agg_sup.predict(X_) == y_).mean())"
   ]
  },
  {
   "cell_type": "code",
   "execution_count": 92,
   "metadata": {},
   "outputs": [
    {
     "name": "stdout",
     "output_type": "stream",
     "text": [
      "time to train Agglomerative Ensemble: 910.3395185470581 0.1385497595264521\n"
     ]
    }
   ],
   "source": [
    "agg= AgglomerativeEnsemble(n_estimators=90, p_inbag=1, projector='gaussian', \n",
    "                           projection_kwargs={'n_components': 16}, n_neighbors=1, \n",
    "                           n_jobs=90)\n",
    "\n",
    "y__ = -1 * np.ones(len(y_))\n",
    "y__[labeled_inds] = y_[labeled_inds]\n",
    "time_ = time()\n",
    "agg.fit(X_, y__)\n",
    "\n",
    "print(\"time to train Agglomerative Ensemble:\", time() - time_, (agg.predict(X_) == y_).mean())"
   ]
  },
  {
   "cell_type": "code",
   "execution_count": 93,
   "metadata": {},
   "outputs": [
    {
     "name": "stdout",
     "output_type": "stream",
     "text": [
      "time to train 1-NN: 0.002714872360229492 0.12782093969663336\n"
     ]
    }
   ],
   "source": [
    "from sklearn.neighbors import KNeighborsClassifier\n",
    "\n",
    "knn= KNeighborsClassifier(n_neighbors=1)\n",
    "\n",
    "time_ = time()\n",
    "knn.fit(X_[labeled_inds], y_[labeled_inds])\n",
    "\n",
    "print(\"time to train 1-NN:\", time() - time_, (knn.predict(X_) == y_).mean())"
   ]
  },
  {
   "cell_type": "code",
   "execution_count": 94,
   "metadata": {},
   "outputs": [
    {
     "name": "stdout",
     "output_type": "stream",
     "text": [
      "time to train Linear SVC: 5.221065998077393 0.13762486126526083\n"
     ]
    }
   ],
   "source": [
    "from sklearn.svm import LinearSVC\n",
    "\n",
    "lin_svc = LinearSVC()\n",
    "time_ = time()\n",
    "lin_svc.fit(X_[labeled_inds], y_[labeled_inds])\n",
    "\n",
    "print(\"time to train Linear SVC:\", time() - time_, (lin_svc.predict(X_) == y_).mean())"
   ]
  },
  {
   "cell_type": "code",
   "execution_count": 95,
   "metadata": {},
   "outputs": [
    {
     "name": "stdout",
     "output_type": "stream",
     "text": [
      "time to train Linear SVC: 0.3047497272491455 0.07473177950425453\n"
     ]
    }
   ],
   "source": [
    "from sklearn.svm import SVC\n",
    "\n",
    "svc = SVC()\n",
    "time_ = time()\n",
    "svc.fit(X_[labeled_inds], y_[labeled_inds])\n",
    "\n",
    "print(\"time to train Linear SVC:\", time() - time_, (svc.predict(X_) == y_).mean())"
   ]
  },
  {
   "cell_type": "code",
   "execution_count": 102,
   "metadata": {},
   "outputs": [
    {
     "name": "stdout",
     "output_type": "stream",
     "text": [
      "time to train Linear SVC: 354.12584471702576 0.11573560241706746\n"
     ]
    }
   ],
   "source": [
    "from sklearn.manifold import Isomap\n",
    "\n",
    "iso = Isomap(n_neighbors=10, n_components=16)\n",
    "nn_iso = KNeighborsClassifier(n_neighbors=1)\n",
    "\n",
    "time_ = time()\n",
    "X_iso = iso.fit_transform(X_)\n",
    "nn_iso.fit(X_iso[labeled_inds], y_[labeled_inds])\n",
    "\n",
    "print(\"time to train Linear SVC:\", time() - time_, (nn_iso.predict(X_iso) == y_).mean())"
   ]
  },
  {
   "cell_type": "code",
   "execution_count": null,
   "metadata": {},
   "outputs": [],
   "source": []
  }
 ],
 "metadata": {
  "kernelspec": {
   "display_name": "APU",
   "language": "python",
   "name": "apu"
  },
  "language_info": {
   "codemirror_mode": {
    "name": "ipython",
    "version": 3
   },
   "file_extension": ".py",
   "mimetype": "text/x-python",
   "name": "python",
   "nbconvert_exporter": "python",
   "pygments_lexer": "ipython3",
   "version": "3.6.9"
  }
 },
 "nbformat": 4,
 "nbformat_minor": 4
}
